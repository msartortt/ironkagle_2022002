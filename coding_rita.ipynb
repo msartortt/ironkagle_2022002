{
 "cells": [
  {
   "cell_type": "code",
   "execution_count": 16,
   "id": "ca69a4d1-99f4-4fa6-8074-2868c9e46fed",
   "metadata": {},
   "outputs": [],
   "source": [
    "# import libraries\n",
    "import numpy as np\n",
    "import pandas as pd\n",
    "\n",
    "\n",
    "sales = pd.read_csv('sales.csv')"
   ]
  },
  {
   "cell_type": "code",
   "execution_count": 17,
   "id": "22d84801-7e06-4ca1-9f82-108893649b59",
   "metadata": {},
   "outputs": [
    {
     "name": "stdout",
     "output_type": "stream",
     "text": [
      "<class 'pandas.core.frame.DataFrame'>\n",
      "RangeIndex: 640840 entries, 0 to 640839\n",
      "Data columns (total 10 columns):\n",
      " #   Column               Non-Null Count   Dtype \n",
      "---  ------               --------------   ----- \n",
      " 0   Unnamed: 0           640840 non-null  int64 \n",
      " 1   store_ID             640840 non-null  int64 \n",
      " 2   day_of_week          640840 non-null  int64 \n",
      " 3   date                 640840 non-null  object\n",
      " 4   nb_customers_on_day  640840 non-null  int64 \n",
      " 5   open                 640840 non-null  int64 \n",
      " 6   promotion            640840 non-null  int64 \n",
      " 7   state_holiday        640840 non-null  object\n",
      " 8   school_holiday       640840 non-null  int64 \n",
      " 9   sales                640840 non-null  int64 \n",
      "dtypes: int64(8), object(2)\n",
      "memory usage: 48.9+ MB\n"
     ]
    }
   ],
   "source": [
    "sales.info()"
   ]
  },
  {
   "cell_type": "code",
   "execution_count": 18,
   "id": "3b8ec5cf-c04c-42e5-ba12-284601b55c7a",
   "metadata": {},
   "outputs": [],
   "source": [
    "# Transform data from 'date'\n",
    "from datetime import datetime\n",
    "\n",
    "def date_to_ordinal(date):\n",
    "    return datetime.strptime(date, '%Y-%m-%d').toordinal()\n",
    "\n",
    "sales['date'] = sales['date'].apply(date_to_ordinal)"
   ]
  },
  {
   "cell_type": "code",
   "execution_count": 19,
   "id": "309f856c-3df2-40dd-85c8-7e541c07dd4c",
   "metadata": {},
   "outputs": [
    {
     "data": {
      "text/html": [
       "<div>\n",
       "<style scoped>\n",
       "    .dataframe tbody tr th:only-of-type {\n",
       "        vertical-align: middle;\n",
       "    }\n",
       "\n",
       "    .dataframe tbody tr th {\n",
       "        vertical-align: top;\n",
       "    }\n",
       "\n",
       "    .dataframe thead th {\n",
       "        text-align: right;\n",
       "    }\n",
       "</style>\n",
       "<table border=\"1\" class=\"dataframe\">\n",
       "  <thead>\n",
       "    <tr style=\"text-align: right;\">\n",
       "      <th></th>\n",
       "      <th>Unnamed: 0</th>\n",
       "      <th>store_ID</th>\n",
       "      <th>day_of_week</th>\n",
       "      <th>date</th>\n",
       "      <th>nb_customers_on_day</th>\n",
       "      <th>open</th>\n",
       "      <th>promotion</th>\n",
       "      <th>school_holiday</th>\n",
       "      <th>sales</th>\n",
       "      <th>state_holiday_0</th>\n",
       "      <th>state_holiday_a</th>\n",
       "      <th>state_holiday_b</th>\n",
       "      <th>state_holiday_c</th>\n",
       "    </tr>\n",
       "  </thead>\n",
       "  <tbody>\n",
       "    <tr>\n",
       "      <th>0</th>\n",
       "      <td>425390</td>\n",
       "      <td>366</td>\n",
       "      <td>4</td>\n",
       "      <td>734976</td>\n",
       "      <td>517</td>\n",
       "      <td>1</td>\n",
       "      <td>0</td>\n",
       "      <td>0</td>\n",
       "      <td>4422</td>\n",
       "      <td>1</td>\n",
       "      <td>0</td>\n",
       "      <td>0</td>\n",
       "      <td>0</td>\n",
       "    </tr>\n",
       "    <tr>\n",
       "      <th>1</th>\n",
       "      <td>291687</td>\n",
       "      <td>394</td>\n",
       "      <td>6</td>\n",
       "      <td>735699</td>\n",
       "      <td>694</td>\n",
       "      <td>1</td>\n",
       "      <td>0</td>\n",
       "      <td>0</td>\n",
       "      <td>8297</td>\n",
       "      <td>1</td>\n",
       "      <td>0</td>\n",
       "      <td>0</td>\n",
       "      <td>0</td>\n",
       "    </tr>\n",
       "    <tr>\n",
       "      <th>2</th>\n",
       "      <td>411278</td>\n",
       "      <td>807</td>\n",
       "      <td>4</td>\n",
       "      <td>735109</td>\n",
       "      <td>970</td>\n",
       "      <td>1</td>\n",
       "      <td>1</td>\n",
       "      <td>0</td>\n",
       "      <td>9729</td>\n",
       "      <td>1</td>\n",
       "      <td>0</td>\n",
       "      <td>0</td>\n",
       "      <td>0</td>\n",
       "    </tr>\n",
       "    <tr>\n",
       "      <th>3</th>\n",
       "      <td>664714</td>\n",
       "      <td>802</td>\n",
       "      <td>2</td>\n",
       "      <td>735016</td>\n",
       "      <td>473</td>\n",
       "      <td>1</td>\n",
       "      <td>1</td>\n",
       "      <td>0</td>\n",
       "      <td>6513</td>\n",
       "      <td>1</td>\n",
       "      <td>0</td>\n",
       "      <td>0</td>\n",
       "      <td>0</td>\n",
       "    </tr>\n",
       "    <tr>\n",
       "      <th>4</th>\n",
       "      <td>540835</td>\n",
       "      <td>726</td>\n",
       "      <td>4</td>\n",
       "      <td>735151</td>\n",
       "      <td>1068</td>\n",
       "      <td>1</td>\n",
       "      <td>1</td>\n",
       "      <td>0</td>\n",
       "      <td>10882</td>\n",
       "      <td>1</td>\n",
       "      <td>0</td>\n",
       "      <td>0</td>\n",
       "      <td>0</td>\n",
       "    </tr>\n",
       "  </tbody>\n",
       "</table>\n",
       "</div>"
      ],
      "text/plain": [
       "   Unnamed: 0  store_ID  day_of_week    date  nb_customers_on_day  open  \\\n",
       "0      425390       366            4  734976                  517     1   \n",
       "1      291687       394            6  735699                  694     1   \n",
       "2      411278       807            4  735109                  970     1   \n",
       "3      664714       802            2  735016                  473     1   \n",
       "4      540835       726            4  735151                 1068     1   \n",
       "\n",
       "   promotion  school_holiday  sales  state_holiday_0  state_holiday_a  \\\n",
       "0          0               0   4422                1                0   \n",
       "1          0               0   8297                1                0   \n",
       "2          1               0   9729                1                0   \n",
       "3          1               0   6513                1                0   \n",
       "4          1               0  10882                1                0   \n",
       "\n",
       "   state_holiday_b  state_holiday_c  \n",
       "0                0                0  \n",
       "1                0                0  \n",
       "2                0                0  \n",
       "3                0                0  \n",
       "4                0                0  "
      ]
     },
     "execution_count": 19,
     "metadata": {},
     "output_type": "execute_result"
    }
   ],
   "source": [
    "categorical_features = ['state_holiday']\n",
    "\n",
    "for col in categorical_features:\n",
    "    dummies = pd.get_dummies(sales[col], prefix=col)\n",
    "    sales = pd.concat([sales, dummies], axis=1)\n",
    "    sales.drop(col, axis=1, inplace=True)\n",
    "    \n",
    "sales.head()"
   ]
  },
  {
   "cell_type": "code",
   "execution_count": 33,
   "id": "148b913b-c820-4531-836e-879df7bd9ede",
   "metadata": {},
   "outputs": [
    {
     "data": {
      "text/plain": [
       "LinearRegression()"
      ]
     },
     "execution_count": 33,
     "metadata": {},
     "output_type": "execute_result"
    }
   ],
   "source": [
    "# Instantiating a LinearRegression Model\n",
    "from sklearn.linear_model import LinearRegression\n",
    "model = LinearRegression()\n",
    "\n",
    "# Creating two arrays for the feature and target\n",
    "y = sales['sales']\n",
    "X = sales.drop('sales',  axis=1)\n",
    "\n",
    "\n",
    "# Splitting the datasets into training and testing\n",
    "from sklearn.model_selection import train_test_split\n",
    "X_train, X_rem, y_train, y_rem = train_test_split(X, y, shuffle=True, train_size=0.8)\n",
    "\n",
    "# Divide again to have a validation data set\n",
    "X_test, X_val, y_test, y_val = train_test_split(X_rem, y_rem, train_size=0.5)\n",
    "\n",
    "# Fitting our model\n",
    "model.fit(X_train, y_train)\n"
   ]
  },
  {
   "cell_type": "code",
   "execution_count": 29,
   "id": "aff6ca08-269f-4cbf-943e-fea13312ef95",
   "metadata": {},
   "outputs": [
    {
     "name": "stdout",
     "output_type": "stream",
     "text": [
      "<class 'pandas.core.frame.DataFrame'>\n",
      "Int64Index: 410137 entries, 32380 to 312524\n",
      "Data columns (total 12 columns):\n",
      " #   Column               Non-Null Count   Dtype\n",
      "---  ------               --------------   -----\n",
      " 0   Unnamed: 0           410137 non-null  int64\n",
      " 1   store_ID             410137 non-null  int64\n",
      " 2   day_of_week          410137 non-null  int64\n",
      " 3   date                 410137 non-null  int64\n",
      " 4   nb_customers_on_day  410137 non-null  int64\n",
      " 5   open                 410137 non-null  int64\n",
      " 6   promotion            410137 non-null  int64\n",
      " 7   school_holiday       410137 non-null  int64\n",
      " 8   state_holiday_0      410137 non-null  uint8\n",
      " 9   state_holiday_a      410137 non-null  uint8\n",
      " 10  state_holiday_b      410137 non-null  uint8\n",
      " 11  state_holiday_c      410137 non-null  uint8\n",
      "dtypes: int64(8), uint8(4)\n",
      "memory usage: 29.7 MB\n"
     ]
    }
   ],
   "source": [
    "X_train.info()"
   ]
  },
  {
   "cell_type": "code",
   "execution_count": 34,
   "id": "5cde5e5d-745d-4cc7-9ba5-56158d0e93c8",
   "metadata": {},
   "outputs": [
    {
     "name": "stdout",
     "output_type": "stream",
     "text": [
      "The r2 is:  0.855361577974487\n",
      "The rmse is:  1455.6834578598807\n"
     ]
    }
   ],
   "source": [
    "# Running Evaluation Metrics\n",
    "from sklearn.metrics import mean_squared_error, r2_score\n",
    "predictions = model.predict(X_test)\n",
    "\n",
    "r2 = r2_score(y_test, predictions)\n",
    "rmse = mean_squared_error(y_test, predictions, squared=False)\n",
    "\n",
    "print('The r2 is: ', r2)\n",
    "print('The rmse is: ', rmse)"
   ]
  },
  {
   "cell_type": "code",
   "execution_count": 35,
   "id": "975ffb0c-f692-4869-b915-5cf31ae63447",
   "metadata": {},
   "outputs": [
    {
     "name": "stdout",
     "output_type": "stream",
     "text": [
      "The r2 is:  0.8554094439233453\n",
      "The rmse is:  1479.5093577131315\n"
     ]
    }
   ],
   "source": [
    "# Running Evaluation Metrics\n",
    "from sklearn.metrics import mean_squared_error, r2_score\n",
    "predictions = model.predict(X_val)\n",
    "\n",
    "r2 = r2_score(y_val, predictions)\n",
    "rmse = mean_squared_error(y_val, predictions, squared=False)\n",
    "\n",
    "print('The r2 is: ', r2)\n",
    "print('The rmse is: ', rmse)"
   ]
  },
  {
   "cell_type": "code",
   "execution_count": 32,
   "id": "e9ef6d27-9623-4afe-854a-dddc16ea8339",
   "metadata": {},
   "outputs": [
    {
     "name": "stdout",
     "output_type": "stream",
     "text": [
      "[-3.69488078e-06 -1.44545846e-01 -7.83018551e+01  4.16524346e-01\n",
      "  6.03989842e+00  1.49566862e+03  1.28255907e+03  6.52508784e+01\n",
      "  5.48235620e+02 -2.43151280e+02 -5.10811322e+02  2.05726983e+02]\n",
      "-306207.96672657295\n"
     ]
    }
   ],
   "source": [
    "print(model.coef_)\n",
    "print(model.intercept_)"
   ]
  },
  {
   "cell_type": "code",
   "execution_count": null,
   "id": "696a7ba8-8c6d-4c60-ad3b-b800947e5b4f",
   "metadata": {},
   "outputs": [],
   "source": []
  }
 ],
 "metadata": {
  "kernelspec": {
   "display_name": "Python 3 (ipykernel)",
   "language": "python",
   "name": "python3"
  },
  "language_info": {
   "codemirror_mode": {
    "name": "ipython",
    "version": 3
   },
   "file_extension": ".py",
   "mimetype": "text/x-python",
   "name": "python",
   "nbconvert_exporter": "python",
   "pygments_lexer": "ipython3",
   "version": "3.8.2"
  }
 },
 "nbformat": 4,
 "nbformat_minor": 5
}
