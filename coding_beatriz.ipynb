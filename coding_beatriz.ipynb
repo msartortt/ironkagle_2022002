{
 "cells": [
  {
   "cell_type": "code",
   "execution_count": 1,
   "id": "ca69a4d1-99f4-4fa6-8074-2868c9e46fed",
   "metadata": {},
   "outputs": [],
   "source": [
    "import pandas as pd\n",
    "import numpy as np"
   ]
  },
  {
   "cell_type": "code",
   "execution_count": 2,
   "id": "0427d304",
   "metadata": {},
   "outputs": [],
   "source": [
    "sales = pd.read_csv(\"C:\\\\Users\\\\beatr\\\\Documents\\\\Beatriz\\\\Ironhack\\\\Projects\\\\ironkagle_2022002\\\\sales.csv\")"
   ]
  },
  {
   "cell_type": "code",
   "execution_count": 3,
   "id": "bf0aa957",
   "metadata": {},
   "outputs": [
    {
     "data": {
      "text/html": [
       "<div>\n",
       "<style scoped>\n",
       "    .dataframe tbody tr th:only-of-type {\n",
       "        vertical-align: middle;\n",
       "    }\n",
       "\n",
       "    .dataframe tbody tr th {\n",
       "        vertical-align: top;\n",
       "    }\n",
       "\n",
       "    .dataframe thead th {\n",
       "        text-align: right;\n",
       "    }\n",
       "</style>\n",
       "<table border=\"1\" class=\"dataframe\">\n",
       "  <thead>\n",
       "    <tr style=\"text-align: right;\">\n",
       "      <th></th>\n",
       "      <th>Unnamed: 0</th>\n",
       "      <th>store_ID</th>\n",
       "      <th>day_of_week</th>\n",
       "      <th>date</th>\n",
       "      <th>nb_customers_on_day</th>\n",
       "      <th>open</th>\n",
       "      <th>promotion</th>\n",
       "      <th>state_holiday</th>\n",
       "      <th>school_holiday</th>\n",
       "      <th>sales</th>\n",
       "    </tr>\n",
       "  </thead>\n",
       "  <tbody>\n",
       "    <tr>\n",
       "      <th>0</th>\n",
       "      <td>425390</td>\n",
       "      <td>366</td>\n",
       "      <td>4</td>\n",
       "      <td>2013-04-18</td>\n",
       "      <td>517</td>\n",
       "      <td>1</td>\n",
       "      <td>0</td>\n",
       "      <td>0</td>\n",
       "      <td>0</td>\n",
       "      <td>4422</td>\n",
       "    </tr>\n",
       "    <tr>\n",
       "      <th>1</th>\n",
       "      <td>291687</td>\n",
       "      <td>394</td>\n",
       "      <td>6</td>\n",
       "      <td>2015-04-11</td>\n",
       "      <td>694</td>\n",
       "      <td>1</td>\n",
       "      <td>0</td>\n",
       "      <td>0</td>\n",
       "      <td>0</td>\n",
       "      <td>8297</td>\n",
       "    </tr>\n",
       "    <tr>\n",
       "      <th>2</th>\n",
       "      <td>411278</td>\n",
       "      <td>807</td>\n",
       "      <td>4</td>\n",
       "      <td>2013-08-29</td>\n",
       "      <td>970</td>\n",
       "      <td>1</td>\n",
       "      <td>1</td>\n",
       "      <td>0</td>\n",
       "      <td>0</td>\n",
       "      <td>9729</td>\n",
       "    </tr>\n",
       "    <tr>\n",
       "      <th>3</th>\n",
       "      <td>664714</td>\n",
       "      <td>802</td>\n",
       "      <td>2</td>\n",
       "      <td>2013-05-28</td>\n",
       "      <td>473</td>\n",
       "      <td>1</td>\n",
       "      <td>1</td>\n",
       "      <td>0</td>\n",
       "      <td>0</td>\n",
       "      <td>6513</td>\n",
       "    </tr>\n",
       "    <tr>\n",
       "      <th>4</th>\n",
       "      <td>540835</td>\n",
       "      <td>726</td>\n",
       "      <td>4</td>\n",
       "      <td>2013-10-10</td>\n",
       "      <td>1068</td>\n",
       "      <td>1</td>\n",
       "      <td>1</td>\n",
       "      <td>0</td>\n",
       "      <td>0</td>\n",
       "      <td>10882</td>\n",
       "    </tr>\n",
       "  </tbody>\n",
       "</table>\n",
       "</div>"
      ],
      "text/plain": [
       "   Unnamed: 0  store_ID  day_of_week        date  nb_customers_on_day  open  \\\n",
       "0      425390       366            4  2013-04-18                  517     1   \n",
       "1      291687       394            6  2015-04-11                  694     1   \n",
       "2      411278       807            4  2013-08-29                  970     1   \n",
       "3      664714       802            2  2013-05-28                  473     1   \n",
       "4      540835       726            4  2013-10-10                 1068     1   \n",
       "\n",
       "   promotion state_holiday  school_holiday  sales  \n",
       "0          0             0               0   4422  \n",
       "1          0             0               0   8297  \n",
       "2          1             0               0   9729  \n",
       "3          1             0               0   6513  \n",
       "4          1             0               0  10882  "
      ]
     },
     "execution_count": 3,
     "metadata": {},
     "output_type": "execute_result"
    }
   ],
   "source": [
    "sales.head()"
   ]
  },
  {
   "cell_type": "code",
   "execution_count": 4,
   "id": "d2299b76",
   "metadata": {},
   "outputs": [],
   "source": [
    "sales.drop(columns=('Unnamed: 0'),axis=1, inplace = True)"
   ]
  },
  {
   "cell_type": "code",
   "execution_count": 5,
   "id": "4ab9b2b4",
   "metadata": {},
   "outputs": [
    {
     "data": {
      "text/plain": [
       "store_ID                int64\n",
       "day_of_week             int64\n",
       "date                   object\n",
       "nb_customers_on_day     int64\n",
       "open                    int64\n",
       "promotion               int64\n",
       "state_holiday          object\n",
       "school_holiday          int64\n",
       "sales                   int64\n",
       "dtype: object"
      ]
     },
     "execution_count": 5,
     "metadata": {},
     "output_type": "execute_result"
    }
   ],
   "source": [
    "sales.dtypes"
   ]
  },
  {
   "cell_type": "code",
   "execution_count": 6,
   "id": "10cb3075",
   "metadata": {},
   "outputs": [
    {
     "data": {
      "text/html": [
       "<div>\n",
       "<style scoped>\n",
       "    .dataframe tbody tr th:only-of-type {\n",
       "        vertical-align: middle;\n",
       "    }\n",
       "\n",
       "    .dataframe tbody tr th {\n",
       "        vertical-align: top;\n",
       "    }\n",
       "\n",
       "    .dataframe thead th {\n",
       "        text-align: right;\n",
       "    }\n",
       "</style>\n",
       "<table border=\"1\" class=\"dataframe\">\n",
       "  <thead>\n",
       "    <tr style=\"text-align: right;\">\n",
       "      <th></th>\n",
       "      <th>store_ID</th>\n",
       "      <th>day_of_week</th>\n",
       "      <th>date</th>\n",
       "      <th>nb_customers_on_day</th>\n",
       "      <th>open</th>\n",
       "      <th>promotion</th>\n",
       "      <th>state_holiday</th>\n",
       "      <th>school_holiday</th>\n",
       "      <th>sales</th>\n",
       "    </tr>\n",
       "  </thead>\n",
       "  <tbody>\n",
       "    <tr>\n",
       "      <th>0</th>\n",
       "      <td>366</td>\n",
       "      <td>4</td>\n",
       "      <td>2013-04-18</td>\n",
       "      <td>517</td>\n",
       "      <td>1</td>\n",
       "      <td>0</td>\n",
       "      <td>0</td>\n",
       "      <td>0</td>\n",
       "      <td>4422</td>\n",
       "    </tr>\n",
       "    <tr>\n",
       "      <th>1</th>\n",
       "      <td>394</td>\n",
       "      <td>6</td>\n",
       "      <td>2015-04-11</td>\n",
       "      <td>694</td>\n",
       "      <td>1</td>\n",
       "      <td>0</td>\n",
       "      <td>0</td>\n",
       "      <td>0</td>\n",
       "      <td>8297</td>\n",
       "    </tr>\n",
       "    <tr>\n",
       "      <th>2</th>\n",
       "      <td>807</td>\n",
       "      <td>4</td>\n",
       "      <td>2013-08-29</td>\n",
       "      <td>970</td>\n",
       "      <td>1</td>\n",
       "      <td>1</td>\n",
       "      <td>0</td>\n",
       "      <td>0</td>\n",
       "      <td>9729</td>\n",
       "    </tr>\n",
       "    <tr>\n",
       "      <th>3</th>\n",
       "      <td>802</td>\n",
       "      <td>2</td>\n",
       "      <td>2013-05-28</td>\n",
       "      <td>473</td>\n",
       "      <td>1</td>\n",
       "      <td>1</td>\n",
       "      <td>0</td>\n",
       "      <td>0</td>\n",
       "      <td>6513</td>\n",
       "    </tr>\n",
       "    <tr>\n",
       "      <th>4</th>\n",
       "      <td>726</td>\n",
       "      <td>4</td>\n",
       "      <td>2013-10-10</td>\n",
       "      <td>1068</td>\n",
       "      <td>1</td>\n",
       "      <td>1</td>\n",
       "      <td>0</td>\n",
       "      <td>0</td>\n",
       "      <td>10882</td>\n",
       "    </tr>\n",
       "  </tbody>\n",
       "</table>\n",
       "</div>"
      ],
      "text/plain": [
       "   store_ID  day_of_week        date  nb_customers_on_day  open  promotion  \\\n",
       "0       366            4  2013-04-18                  517     1          0   \n",
       "1       394            6  2015-04-11                  694     1          0   \n",
       "2       807            4  2013-08-29                  970     1          1   \n",
       "3       802            2  2013-05-28                  473     1          1   \n",
       "4       726            4  2013-10-10                 1068     1          1   \n",
       "\n",
       "  state_holiday  school_holiday  sales  \n",
       "0             0               0   4422  \n",
       "1             0               0   8297  \n",
       "2             0               0   9729  \n",
       "3             0               0   6513  \n",
       "4             0               0  10882  "
      ]
     },
     "execution_count": 6,
     "metadata": {},
     "output_type": "execute_result"
    }
   ],
   "source": [
    "sales.head()"
   ]
  },
  {
   "cell_type": "code",
   "execution_count": 7,
   "id": "c2ab6278",
   "metadata": {},
   "outputs": [
    {
     "data": {
      "text/plain": [
       "array(['0', 'a', 'c', 'b'], dtype=object)"
      ]
     },
     "execution_count": 7,
     "metadata": {},
     "output_type": "execute_result"
    }
   ],
   "source": [
    "sales[\"state_holiday\"].unique()"
   ]
  },
  {
   "cell_type": "code",
   "execution_count": 8,
   "id": "a71fec63",
   "metadata": {},
   "outputs": [
    {
     "data": {
      "text/plain": [
       "array([1, 0], dtype=int64)"
      ]
     },
     "execution_count": 8,
     "metadata": {},
     "output_type": "execute_result"
    }
   ],
   "source": [
    "sales[\"open\"].unique()"
   ]
  },
  {
   "cell_type": "code",
   "execution_count": 9,
   "id": "ca7e235a",
   "metadata": {},
   "outputs": [
    {
     "data": {
      "text/plain": [
       "array([0, 1], dtype=int64)"
      ]
     },
     "execution_count": 9,
     "metadata": {},
     "output_type": "execute_result"
    }
   ],
   "source": [
    "sales[\"promotion\"].unique()"
   ]
  },
  {
   "cell_type": "code",
   "execution_count": 10,
   "id": "cb0b7d50",
   "metadata": {},
   "outputs": [
    {
     "data": {
      "text/plain": [
       "array([0, 1], dtype=int64)"
      ]
     },
     "execution_count": 10,
     "metadata": {},
     "output_type": "execute_result"
    }
   ],
   "source": [
    "sales[\"school_holiday\"].unique()"
   ]
  },
  {
   "cell_type": "code",
   "execution_count": 11,
   "id": "8306b536",
   "metadata": {},
   "outputs": [
    {
     "data": {
      "text/plain": [
       "0    621160\n",
       "a     12842\n",
       "b      4214\n",
       "c      2624\n",
       "Name: state_holiday, dtype: int64"
      ]
     },
     "execution_count": 11,
     "metadata": {},
     "output_type": "execute_result"
    }
   ],
   "source": [
    "sales[\"state_holiday\"].value_counts()"
   ]
  },
  {
   "cell_type": "code",
   "execution_count": 12,
   "id": "c5cc857a",
   "metadata": {},
   "outputs": [],
   "source": [
    "# We saw that we need to transform our features to their correct type\n",
    "\n",
    "sales['open'] = sales['open'].astype(int)\n",
    "sales['promotion'] = sales['promotion'].astype(int)\n",
    "sales['school_holiday'] = sales['school_holiday'].astype(int)\n",
    "\n",
    "sales['store_ID'] = sales['store_ID'].astype(object)\n",
    "sales['day_of_week'] = sales['day_of_week'].astype(object)"
   ]
  },
  {
   "cell_type": "code",
   "execution_count": 13,
   "id": "3f799dbd",
   "metadata": {},
   "outputs": [],
   "source": [
    "# We need to correct our date feature to a numerical value in order to be able to process it\n",
    "\n",
    "from datetime import datetime\n",
    "\n",
    "def date_to_ordinal(date):\n",
    "    return datetime.strptime(date, '%Y-%m-%d').toordinal()\n",
    "\n",
    "sales['date'] = sales['date'].apply(date_to_ordinal)"
   ]
  },
  {
   "cell_type": "code",
   "execution_count": null,
   "id": "0efea914",
   "metadata": {},
   "outputs": [],
   "source": [
    "# We saw that we dont't need to create a dumy variable, but just validade if it is or not a holiday\n",
    "\n",
    "#categorical_features = ['state_holiday']\n",
    "\n",
    "#for col in categorical_features:\n",
    "#    dummies = pd.get_dummies(sales[col], prefix=col)\n",
    "#    sales = pd.concat([sales, dummies], axis=1)\n",
    "#    sales.drop(col, axis=1, inplace=True)\n",
    "    \n",
    "#sales.head()"
   ]
  },
  {
   "cell_type": "code",
   "execution_count": null,
   "id": "1c6a2dbb",
   "metadata": {},
   "outputs": [],
   "source": [
    "#sales.groupby(['state_holiday_0','state_holiday_a','state_holiday_b','state_holiday_c']).mean()"
   ]
  },
  {
   "cell_type": "code",
   "execution_count": 14,
   "id": "9e0165c7",
   "metadata": {},
   "outputs": [],
   "source": [
    "# StateHoliday indicates a state holiday. Normally all stores, with few exceptions,\n",
    "# are closed on state holidays. Note that all schools are closed on public holidays and weekends.\n",
    "# a = public holiday, b = Easter holiday, c = Christmas, 0 = None\n",
    "\n",
    "# As we saw that it doesn't matter much what tipe orf holiday it is, we will creat a boolean column just to state\n",
    "# if it is or not a holiday\n",
    "\n",
    "sales['state_holiday'] = sales['state_holiday'].replace('a',1).replace('b',1).replace('c',1)\n",
    "sales['state_holiday'] = sales['state_holiday'].astype(int)"
   ]
  },
  {
   "cell_type": "code",
   "execution_count": 15,
   "id": "68b3e512",
   "metadata": {},
   "outputs": [
    {
     "name": "stdout",
     "output_type": "stream",
     "text": [
      "<class 'pandas.core.frame.DataFrame'>\n",
      "RangeIndex: 640840 entries, 0 to 640839\n",
      "Data columns (total 9 columns):\n",
      " #   Column               Non-Null Count   Dtype \n",
      "---  ------               --------------   ----- \n",
      " 0   store_ID             640840 non-null  object\n",
      " 1   day_of_week          640840 non-null  object\n",
      " 2   date                 640840 non-null  int64 \n",
      " 3   nb_customers_on_day  640840 non-null  int64 \n",
      " 4   open                 640840 non-null  int32 \n",
      " 5   promotion            640840 non-null  int32 \n",
      " 6   state_holiday        640840 non-null  int32 \n",
      " 7   school_holiday       640840 non-null  int32 \n",
      " 8   sales                640840 non-null  int64 \n",
      "dtypes: int32(4), int64(3), object(2)\n",
      "memory usage: 34.2+ MB\n"
     ]
    }
   ],
   "source": [
    "sales.info()"
   ]
  },
  {
   "cell_type": "code",
   "execution_count": 19,
   "id": "14ab9514",
   "metadata": {},
   "outputs": [
    {
     "name": "stderr",
     "output_type": "stream",
     "text": [
      "C:\\Users\\beatr\\AppData\\Local\\Temp/ipykernel_15320/3927864183.py:6: DeprecationWarning: `np.bool` is a deprecated alias for the builtin `bool`. To silence this warning, use `bool` by itself. Doing this will not modify any behavior and is safe. If you specifically wanted the numpy scalar type, use `np.bool_` here.\n",
      "Deprecated in NumPy 1.20; for more details and guidance: https://numpy.org/devdocs/release/1.20.0-notes.html#deprecations\n",
      "  mask = np.triu(np.ones_like(sales.corr(), dtype=np.bool))\n"
     ]
    },
    {
     "data": {
      "text/plain": [
       "Text(0.5, 1.0, 'Triangle Correlation Heatmap')"
      ]
     },
     "execution_count": 19,
     "metadata": {},
     "output_type": "execute_result"
    },
    {
     "data": {
      "image/png": "[encoded data removed]",
      "text/plain": [
       "<Figure size 1152x432 with 2 Axes>"
      ]
     },
     "metadata": {
      "needs_background": "light"
     },
     "output_type": "display_data"
    }
   ],
   "source": [
    "%matplotlib inline\n",
    "import matplotlib.pyplot as plt\n",
    " import seaborn as sns\n",
    "\n",
    "plt.figure(figsize=(16, 6))\n",
    "mask = np.triu(np.ones_like(sales.corr(), dtype=np.bool))\n",
    "heatmap = sns.heatmap(sales.corr(), mask=mask, vmin=-1, vmax=1, annot=True, cmap='BrBG')\n",
    "heatmap.set_title('Triangle Correlation Heatmap', fontdict={'fontsize':18}, pad=16)"
   ]
  },
  {
   "cell_type": "code",
   "execution_count": 20,
   "id": "6641acbb",
   "metadata": {},
   "outputs": [
    {
     "data": {
      "text/plain": [
       "Text(0.5, 1.0, 'Features Correlating with Type')"
      ]
     },
     "execution_count": 20,
     "metadata": {},
     "output_type": "execute_result"
    },
    {
     "data": {
      "image/png": "[encoded data removed]",
      "text/plain": [
       "<Figure size 576x864 with 2 Axes>"
      ]
     },
     "metadata": {
      "needs_background": "light"
     },
     "output_type": "display_data"
    }
   ],
   "source": [
    "# Just checking the correlation with our target\n",
    "\n",
    "plt.figure(figsize=(8, 12))\n",
    "heatmap = sns.heatmap(sales.corr()[['sales']].sort_values(by='sales', ascending=False), vmin=-1, vmax=1, annot=True, cmap='BrBG')\n",
    "heatmap.set_title('Features Correlating with Type', fontdict={'fontsize':18}, pad=16)"
   ]
  },
  {
   "cell_type": "code",
   "execution_count": 21,
   "id": "7e38fce8",
   "metadata": {},
   "outputs": [
    {
     "name": "stdout",
     "output_type": "stream",
     "text": [
      "The r2 is:  0.8536564126566989\n",
      "The rmse is:  1479.8924250377627\n"
     ]
    }
   ],
   "source": [
    "# Instantiating a LinearRegression Model\n",
    "from sklearn.linear_model import LinearRegression\n",
    "\n",
    "model = LinearRegression()\n",
    "\n",
    "# Creating two arrays for the feature and target\n",
    "y = sales['sales']\n",
    "X = sales.drop('sales',  axis=1)\n",
    "\n",
    "# Splitting the datasets into training and testing\n",
    "from sklearn.model_selection import train_test_split\n",
    "\n",
    "X_train, X_test, y_train, y_test = train_test_split(X, y, shuffle=True, train_size=0.8)\n",
    "\n",
    "# Fitting our model\n",
    "model.fit(X_train, y_train)\n",
    "    \n",
    "# Running Evaluation Metrics\n",
    "from sklearn.metrics import mean_squared_error, r2_score\n",
    "\n",
    "predictions = model.predict(X_test)\n",
    "r2 = r2_score(y_test, predictions)\n",
    "rmse = mean_squared_error(y_test, predictions, squared=False)\n",
    "print('The r2 is: ', r2)\n",
    "print('The rmse is: ', rmse)"
   ]
  },
  {
   "cell_type": "code",
   "execution_count": 22,
   "id": "5d743ba9",
   "metadata": {},
   "outputs": [],
   "source": [
    "# We saw that school_holiday doesn't have a strong correlation to any of our features and target,\n",
    "# So we will see if we get a better score without this column\n",
    "\n",
    "sales_featsel = sales.drop(columns='school_holiday',axis=1)"
   ]
  },
  {
   "cell_type": "code",
   "execution_count": 23,
   "id": "074d786b",
   "metadata": {},
   "outputs": [
    {
     "name": "stdout",
     "output_type": "stream",
     "text": [
      "The r2 is:  0.8543169044047254\n",
      "The rmse is:  1472.7144494292513\n"
     ]
    }
   ],
   "source": [
    "# Instantiating a LinearRegression Model\n",
    "model = LinearRegression()\n",
    "\n",
    "# Creating two arrays for the feature and target\n",
    "y = sales_featsel['sales']\n",
    "X = sales_featsel.drop('sales',  axis=1)\n",
    "\n",
    "# Splitting the datasets into training and testing\n",
    "\n",
    "X_train, X_test, y_train, y_test = train_test_split(X, y, shuffle=True, train_size=0.8)\n",
    "\n",
    "# Fitting our model\n",
    "model.fit(X_train, y_train)\n",
    "    \n",
    "# Running Evaluation Metrics\n",
    "\n",
    "predictions = model.predict(X_test)\n",
    "r2 = r2_score(y_test, predictions)\n",
    "rmse = mean_squared_error(y_test, predictions, squared=False)\n",
    "print('The r2 is: ', r2)\n",
    "print('The rmse is: ', rmse)"
   ]
  },
  {
   "cell_type": "code",
   "execution_count": 24,
   "id": "ca344856",
   "metadata": {},
   "outputs": [],
   "source": [
    "# So... even that school_holiday doesn't have a strong correlation, droping it makes our R^2 be lower\n",
    "# Beacause of that we decided to keep it"
   ]
  },
  {
   "cell_type": "code",
   "execution_count": 25,
   "id": "778ebe69",
   "metadata": {},
   "outputs": [],
   "source": [
    "# Also, before doing all of this we've run our model without any chances in our dataset (in other computer).\n",
    "# The values obtained was:\n",
    "\n",
    "# The r2 is:  0.8541070570089223\n",
    "# The rmse is:  1470.1437494420563\n",
    "\n",
    "# Conclusion so far: we needed to do some changes"
   ]
  },
  {
   "cell_type": "code",
   "execution_count": 26,
   "id": "432a0264",
   "metadata": {},
   "outputs": [
    {
     "data": {
      "text/html": [
       "<div>\n",
       "<style scoped>\n",
       "    .dataframe tbody tr th:only-of-type {\n",
       "        vertical-align: middle;\n",
       "    }\n",
       "\n",
       "    .dataframe tbody tr th {\n",
       "        vertical-align: top;\n",
       "    }\n",
       "\n",
       "    .dataframe thead th {\n",
       "        text-align: right;\n",
       "    }\n",
       "</style>\n",
       "<table border=\"1\" class=\"dataframe\">\n",
       "  <thead>\n",
       "    <tr style=\"text-align: right;\">\n",
       "      <th></th>\n",
       "      <th>date</th>\n",
       "      <th>nb_customers_on_day</th>\n",
       "      <th>open</th>\n",
       "      <th>promotion</th>\n",
       "      <th>state_holiday</th>\n",
       "      <th>school_holiday</th>\n",
       "      <th>sales</th>\n",
       "    </tr>\n",
       "  </thead>\n",
       "  <tbody>\n",
       "    <tr>\n",
       "      <th>count</th>\n",
       "      <td>640840.000000</td>\n",
       "      <td>640840.000000</td>\n",
       "      <td>640840.000000</td>\n",
       "      <td>640840.000000</td>\n",
       "      <td>640840.00000</td>\n",
       "      <td>640840.000000</td>\n",
       "      <td>640840.000000</td>\n",
       "    </tr>\n",
       "    <tr>\n",
       "      <th>mean</th>\n",
       "      <td>735334.086967</td>\n",
       "      <td>633.398577</td>\n",
       "      <td>0.830185</td>\n",
       "      <td>0.381718</td>\n",
       "      <td>0.03071</td>\n",
       "      <td>0.178472</td>\n",
       "      <td>5777.469011</td>\n",
       "    </tr>\n",
       "    <tr>\n",
       "      <th>std</th>\n",
       "      <td>274.469985</td>\n",
       "      <td>464.094416</td>\n",
       "      <td>0.375470</td>\n",
       "      <td>0.485808</td>\n",
       "      <td>0.17253</td>\n",
       "      <td>0.382910</td>\n",
       "      <td>3851.338083</td>\n",
       "    </tr>\n",
       "    <tr>\n",
       "      <th>min</th>\n",
       "      <td>734869.000000</td>\n",
       "      <td>0.000000</td>\n",
       "      <td>0.000000</td>\n",
       "      <td>0.000000</td>\n",
       "      <td>0.00000</td>\n",
       "      <td>0.000000</td>\n",
       "      <td>0.000000</td>\n",
       "    </tr>\n",
       "    <tr>\n",
       "      <th>25%</th>\n",
       "      <td>735097.000000</td>\n",
       "      <td>405.000000</td>\n",
       "      <td>1.000000</td>\n",
       "      <td>0.000000</td>\n",
       "      <td>0.00000</td>\n",
       "      <td>0.000000</td>\n",
       "      <td>3731.000000</td>\n",
       "    </tr>\n",
       "    <tr>\n",
       "      <th>50%</th>\n",
       "      <td>735325.000000</td>\n",
       "      <td>609.000000</td>\n",
       "      <td>1.000000</td>\n",
       "      <td>0.000000</td>\n",
       "      <td>0.00000</td>\n",
       "      <td>0.000000</td>\n",
       "      <td>5746.000000</td>\n",
       "    </tr>\n",
       "    <tr>\n",
       "      <th>75%</th>\n",
       "      <td>735579.000000</td>\n",
       "      <td>838.000000</td>\n",
       "      <td>1.000000</td>\n",
       "      <td>1.000000</td>\n",
       "      <td>0.00000</td>\n",
       "      <td>0.000000</td>\n",
       "      <td>7860.000000</td>\n",
       "    </tr>\n",
       "    <tr>\n",
       "      <th>max</th>\n",
       "      <td>735810.000000</td>\n",
       "      <td>5458.000000</td>\n",
       "      <td>1.000000</td>\n",
       "      <td>1.000000</td>\n",
       "      <td>1.00000</td>\n",
       "      <td>1.000000</td>\n",
       "      <td>41551.000000</td>\n",
       "    </tr>\n",
       "  </tbody>\n",
       "</table>\n",
       "</div>"
      ],
      "text/plain": [
       "                date  nb_customers_on_day           open      promotion  \\\n",
       "count  640840.000000        640840.000000  640840.000000  640840.000000   \n",
       "mean   735334.086967           633.398577       0.830185       0.381718   \n",
       "std       274.469985           464.094416       0.375470       0.485808   \n",
       "min    734869.000000             0.000000       0.000000       0.000000   \n",
       "25%    735097.000000           405.000000       1.000000       0.000000   \n",
       "50%    735325.000000           609.000000       1.000000       0.000000   \n",
       "75%    735579.000000           838.000000       1.000000       1.000000   \n",
       "max    735810.000000          5458.000000       1.000000       1.000000   \n",
       "\n",
       "       state_holiday  school_holiday          sales  \n",
       "count   640840.00000   640840.000000  640840.000000  \n",
       "mean         0.03071        0.178472    5777.469011  \n",
       "std          0.17253        0.382910    3851.338083  \n",
       "min          0.00000        0.000000       0.000000  \n",
       "25%          0.00000        0.000000    3731.000000  \n",
       "50%          0.00000        0.000000    5746.000000  \n",
       "75%          0.00000        0.000000    7860.000000  \n",
       "max          1.00000        1.000000   41551.000000  "
      ]
     },
     "execution_count": 26,
     "metadata": {},
     "output_type": "execute_result"
    }
   ],
   "source": [
    "sales.describe()"
   ]
  },
  {
   "cell_type": "code",
   "execution_count": 27,
   "id": "d02c14fc",
   "metadata": {},
   "outputs": [],
   "source": [
    "# Now... looking to our nb_customers_on_day and sales features we believe that we need to standardize them\n",
    "# From this point on we will be trully evaluating our model and spliting it into three datasets:\n",
    "# train, test and validation set"
   ]
  },
  {
   "cell_type": "code",
   "execution_count": null,
   "id": "2992b328",
   "metadata": {},
   "outputs": [],
   "source": []
  },
  {
   "cell_type": "code",
   "execution_count": null,
   "id": "c585c979",
   "metadata": {},
   "outputs": [],
   "source": []
  },
  {
   "cell_type": "code",
   "execution_count": null,
   "id": "47ba09be",
   "metadata": {},
   "outputs": [],
   "source": []
  },
  {
   "cell_type": "code",
   "execution_count": null,
   "id": "573ab148",
   "metadata": {},
   "outputs": [],
   "source": []
  },
  {
   "cell_type": "code",
   "execution_count": null,
   "id": "0f64947c",
   "metadata": {},
   "outputs": [],
   "source": []
  },
  {
   "cell_type": "code",
   "execution_count": null,
   "id": "fcd7df6a",
   "metadata": {},
   "outputs": [],
   "source": []
  },
  {
   "cell_type": "code",
   "execution_count": 109,
   "id": "047f3b9b",
   "metadata": {},
   "outputs": [],
   "source": [
    "#Create function to clean the data when we get new data\n",
    "\n",
    "def clean_data(treated_df):\n",
    "    #drop the column:\n",
    "\n",
    "    #treated_df.drop(columns=('Unnamed: 0'), axis=1, inplace = True)\n",
    "    treated_df.drop(columns=('index'), axis=1, inplace = True)\n",
    "        \n",
    "    #Change the data type for the columns:\n",
    "    treated_df['open'] = treated_df['open'].astype(int)\n",
    "    treated_df['promotion'] = treated_df['promotion'].astype(int)\n",
    "    treated_df['school_holiday'] = treated_df['school_holiday'].astype(int)\n",
    "    \n",
    "    treated_df['store_ID'] = treated_df['store_ID'].astype(object)\n",
    "    treated_df['day_of_week'] = treated_df['day_of_week'].astype(object)\n",
    "    \n",
    "    #Treat the state_holiday column:\n",
    "    treated_df['state_holiday'] = treated_df['state_holiday'].replace('a',1).replace('b',1).replace('c',1)\n",
    "    treated_df['state_holiday'] = treated_df['state_holiday'].astype(int)    \n",
    "    \n",
    "    #Update the date column:\n",
    "    treated_df['month'] = pd.DatetimeIndex(treated_df['date'],dayfirst=True).month\n",
    "    treated_df.drop(columns=('date'), axis=1,inplace=True)\n",
    "    \n",
    "    #Drop school holiday:\n",
    "    treated_df.drop(columns='school_holiday', axis=1 , inplace = True)\n",
    "    \n",
    "    return treated_df"
   ]
  },
  {
   "cell_type": "code",
   "execution_count": 110,
   "id": "37ead718",
   "metadata": {},
   "outputs": [],
   "source": [
    "validation_data = pd.read_csv(\"C:\\\\Users\\\\beatr\\\\Documents\\\\Beatriz\\\\Ironhack\\\\Projects\\\\ironkagle_2022002\\\\validation_for students.csv\")\n",
    "validate_finaldf = clean_data(validation_data)"
   ]
  },
  {
   "cell_type": "code",
   "execution_count": 111,
   "id": "ebc26baa",
   "metadata": {},
   "outputs": [
    {
     "data": {
      "text/html": [
       "<div>\n",
       "<style scoped>\n",
       "    .dataframe tbody tr th:only-of-type {\n",
       "        vertical-align: middle;\n",
       "    }\n",
       "\n",
       "    .dataframe tbody tr th {\n",
       "        vertical-align: top;\n",
       "    }\n",
       "\n",
       "    .dataframe thead th {\n",
       "        text-align: right;\n",
       "    }\n",
       "</style>\n",
       "<table border=\"1\" class=\"dataframe\">\n",
       "  <thead>\n",
       "    <tr style=\"text-align: right;\">\n",
       "      <th></th>\n",
       "      <th>store_ID</th>\n",
       "      <th>day_of_week</th>\n",
       "      <th>nb_customers_on_day</th>\n",
       "      <th>open</th>\n",
       "      <th>promotion</th>\n",
       "      <th>state_holiday</th>\n",
       "      <th>month</th>\n",
       "    </tr>\n",
       "  </thead>\n",
       "  <tbody>\n",
       "    <tr>\n",
       "      <th>0</th>\n",
       "      <td>415</td>\n",
       "      <td>7</td>\n",
       "      <td>0</td>\n",
       "      <td>0</td>\n",
       "      <td>0</td>\n",
       "      <td>0</td>\n",
       "      <td>3</td>\n",
       "    </tr>\n",
       "    <tr>\n",
       "      <th>1</th>\n",
       "      <td>27</td>\n",
       "      <td>7</td>\n",
       "      <td>0</td>\n",
       "      <td>0</td>\n",
       "      <td>0</td>\n",
       "      <td>0</td>\n",
       "      <td>12</td>\n",
       "    </tr>\n",
       "    <tr>\n",
       "      <th>2</th>\n",
       "      <td>404</td>\n",
       "      <td>3</td>\n",
       "      <td>657</td>\n",
       "      <td>1</td>\n",
       "      <td>1</td>\n",
       "      <td>0</td>\n",
       "      <td>3</td>\n",
       "    </tr>\n",
       "    <tr>\n",
       "      <th>3</th>\n",
       "      <td>683</td>\n",
       "      <td>2</td>\n",
       "      <td>862</td>\n",
       "      <td>1</td>\n",
       "      <td>0</td>\n",
       "      <td>0</td>\n",
       "      <td>1</td>\n",
       "    </tr>\n",
       "    <tr>\n",
       "      <th>4</th>\n",
       "      <td>920</td>\n",
       "      <td>3</td>\n",
       "      <td>591</td>\n",
       "      <td>1</td>\n",
       "      <td>1</td>\n",
       "      <td>0</td>\n",
       "      <td>3</td>\n",
       "    </tr>\n",
       "    <tr>\n",
       "      <th>...</th>\n",
       "      <td>...</td>\n",
       "      <td>...</td>\n",
       "      <td>...</td>\n",
       "      <td>...</td>\n",
       "      <td>...</td>\n",
       "      <td>...</td>\n",
       "      <td>...</td>\n",
       "    </tr>\n",
       "    <tr>\n",
       "      <th>71200</th>\n",
       "      <td>441</td>\n",
       "      <td>7</td>\n",
       "      <td>0</td>\n",
       "      <td>0</td>\n",
       "      <td>0</td>\n",
       "      <td>0</td>\n",
       "      <td>10</td>\n",
       "    </tr>\n",
       "    <tr>\n",
       "      <th>71201</th>\n",
       "      <td>377</td>\n",
       "      <td>7</td>\n",
       "      <td>0</td>\n",
       "      <td>0</td>\n",
       "      <td>0</td>\n",
       "      <td>0</td>\n",
       "      <td>8</td>\n",
       "    </tr>\n",
       "    <tr>\n",
       "      <th>71202</th>\n",
       "      <td>15</td>\n",
       "      <td>3</td>\n",
       "      <td>648</td>\n",
       "      <td>1</td>\n",
       "      <td>0</td>\n",
       "      <td>0</td>\n",
       "      <td>6</td>\n",
       "    </tr>\n",
       "    <tr>\n",
       "      <th>71203</th>\n",
       "      <td>950</td>\n",
       "      <td>2</td>\n",
       "      <td>626</td>\n",
       "      <td>1</td>\n",
       "      <td>1</td>\n",
       "      <td>0</td>\n",
       "      <td>4</td>\n",
       "    </tr>\n",
       "    <tr>\n",
       "      <th>71204</th>\n",
       "      <td>932</td>\n",
       "      <td>4</td>\n",
       "      <td>828</td>\n",
       "      <td>1</td>\n",
       "      <td>1</td>\n",
       "      <td>0</td>\n",
       "      <td>11</td>\n",
       "    </tr>\n",
       "  </tbody>\n",
       "</table>\n",
       "<p>71205 rows × 7 columns</p>\n",
       "</div>"
      ],
      "text/plain": [
       "      store_ID day_of_week  nb_customers_on_day  open  promotion  \\\n",
       "0          415           7                    0     0          0   \n",
       "1           27           7                    0     0          0   \n",
       "2          404           3                  657     1          1   \n",
       "3          683           2                  862     1          0   \n",
       "4          920           3                  591     1          1   \n",
       "...        ...         ...                  ...   ...        ...   \n",
       "71200      441           7                    0     0          0   \n",
       "71201      377           7                    0     0          0   \n",
       "71202       15           3                  648     1          0   \n",
       "71203      950           2                  626     1          1   \n",
       "71204      932           4                  828     1          1   \n",
       "\n",
       "       state_holiday  month  \n",
       "0                  0      3  \n",
       "1                  0     12  \n",
       "2                  0      3  \n",
       "3                  0      1  \n",
       "4                  0      3  \n",
       "...              ...    ...  \n",
       "71200              0     10  \n",
       "71201              0      8  \n",
       "71202              0      6  \n",
       "71203              0      4  \n",
       "71204              0     11  \n",
       "\n",
       "[71205 rows x 7 columns]"
      ]
     },
     "execution_count": 111,
     "metadata": {},
     "output_type": "execute_result"
    }
   ],
   "source": [
    "validate_finaldf"
   ]
  },
  {
   "cell_type": "code",
   "execution_count": 94,
   "id": "0e977982",
   "metadata": {},
   "outputs": [],
   "source": [
    "sales = pd.read_csv(\"C:\\\\Users\\\\beatr\\\\Documents\\\\Beatriz\\\\Ironhack\\\\Projects\\\\ironkagle_2022002\\\\sales.csv\")\n",
    "sales = clean_data(sales)"
   ]
  },
  {
   "cell_type": "code",
   "execution_count": 112,
   "id": "808a8539",
   "metadata": {},
   "outputs": [
    {
     "name": "stdout",
     "output_type": "stream",
     "text": [
      "0.9644357982556622\n",
      "726.6796782736358\n"
     ]
    }
   ],
   "source": [
    "from sklearn.ensemble import GradientBoostingRegressor\n",
    "from sklearn.model_selection import train_test_split\n",
    "\n",
    "# Creating two arrays for the feature and target\n",
    "y = sales['sales']\n",
    "X = sales.drop(columns=['sales'],  axis=1)\n",
    "\n",
    "# Splitting the datasets into training and testing\n",
    "X_train, X_test, y_train, y_test = train_test_split(X, y, shuffle=True, train_size=0.8)\n",
    "\n",
    "grad_boost_reg = GradientBoostingRegressor(max_depth=11, random_state=0)\n",
    "grad_boost_reg.fit(X_train, y_train)\n",
    "y_pred = grad_boost_reg.predict(X_test)\n",
    "r2 = r2_score(y_test, y_pred)\n",
    "rmse = mean_squared_error(y_test, y_pred, squared=False)\n",
    "\n",
    "print(r2)\n",
    "print(rmse)"
   ]
  },
  {
   "cell_type": "code",
   "execution_count": 113,
   "id": "b868d223",
   "metadata": {},
   "outputs": [],
   "source": [
    "validate_finaldf['sales_prediction'] = grad_boost_reg.predict(validate_finaldf)"
   ]
  },
  {
   "cell_type": "code",
   "execution_count": 101,
   "id": "ab4b0ee0",
   "metadata": {},
   "outputs": [
    {
     "name": "stdout",
     "output_type": "stream",
     "text": [
      "[ 7582.77754334  8116.37404703  5608.93784728 ...  9856.42346227\n",
      "  5997.0456278  12361.85734259]\n"
     ]
    }
   ],
   "source": [
    "print(y_pred)"
   ]
  },
  {
   "cell_type": "code",
   "execution_count": 114,
   "id": "e2995af6",
   "metadata": {},
   "outputs": [
    {
     "data": {
      "text/html": [
       "<div>\n",
       "<style scoped>\n",
       "    .dataframe tbody tr th:only-of-type {\n",
       "        vertical-align: middle;\n",
       "    }\n",
       "\n",
       "    .dataframe tbody tr th {\n",
       "        vertical-align: top;\n",
       "    }\n",
       "\n",
       "    .dataframe thead th {\n",
       "        text-align: right;\n",
       "    }\n",
       "</style>\n",
       "<table border=\"1\" class=\"dataframe\">\n",
       "  <thead>\n",
       "    <tr style=\"text-align: right;\">\n",
       "      <th></th>\n",
       "      <th>store_ID</th>\n",
       "      <th>day_of_week</th>\n",
       "      <th>nb_customers_on_day</th>\n",
       "      <th>open</th>\n",
       "      <th>promotion</th>\n",
       "      <th>state_holiday</th>\n",
       "      <th>sales</th>\n",
       "      <th>month</th>\n",
       "    </tr>\n",
       "  </thead>\n",
       "  <tbody>\n",
       "    <tr>\n",
       "      <th>0</th>\n",
       "      <td>366</td>\n",
       "      <td>4</td>\n",
       "      <td>517</td>\n",
       "      <td>1</td>\n",
       "      <td>0</td>\n",
       "      <td>0</td>\n",
       "      <td>4422</td>\n",
       "      <td>4</td>\n",
       "    </tr>\n",
       "    <tr>\n",
       "      <th>1</th>\n",
       "      <td>394</td>\n",
       "      <td>6</td>\n",
       "      <td>694</td>\n",
       "      <td>1</td>\n",
       "      <td>0</td>\n",
       "      <td>0</td>\n",
       "      <td>8297</td>\n",
       "      <td>4</td>\n",
       "    </tr>\n",
       "    <tr>\n",
       "      <th>2</th>\n",
       "      <td>807</td>\n",
       "      <td>4</td>\n",
       "      <td>970</td>\n",
       "      <td>1</td>\n",
       "      <td>1</td>\n",
       "      <td>0</td>\n",
       "      <td>9729</td>\n",
       "      <td>8</td>\n",
       "    </tr>\n",
       "    <tr>\n",
       "      <th>3</th>\n",
       "      <td>802</td>\n",
       "      <td>2</td>\n",
       "      <td>473</td>\n",
       "      <td>1</td>\n",
       "      <td>1</td>\n",
       "      <td>0</td>\n",
       "      <td>6513</td>\n",
       "      <td>5</td>\n",
       "    </tr>\n",
       "    <tr>\n",
       "      <th>4</th>\n",
       "      <td>726</td>\n",
       "      <td>4</td>\n",
       "      <td>1068</td>\n",
       "      <td>1</td>\n",
       "      <td>1</td>\n",
       "      <td>0</td>\n",
       "      <td>10882</td>\n",
       "      <td>10</td>\n",
       "    </tr>\n",
       "  </tbody>\n",
       "</table>\n",
       "</div>"
      ],
      "text/plain": [
       "  store_ID day_of_week  nb_customers_on_day  open  promotion  state_holiday  \\\n",
       "0      366           4                  517     1          0              0   \n",
       "1      394           6                  694     1          0              0   \n",
       "2      807           4                  970     1          1              0   \n",
       "3      802           2                  473     1          1              0   \n",
       "4      726           4                 1068     1          1              0   \n",
       "\n",
       "   sales  month  \n",
       "0   4422      4  \n",
       "1   8297      4  \n",
       "2   9729      8  \n",
       "3   6513      5  \n",
       "4  10882     10  "
      ]
     },
     "metadata": {},
     "output_type": "display_data"
    },
    {
     "data": {
      "text/html": [
       "<div>\n",
       "<style scoped>\n",
       "    .dataframe tbody tr th:only-of-type {\n",
       "        vertical-align: middle;\n",
       "    }\n",
       "\n",
       "    .dataframe tbody tr th {\n",
       "        vertical-align: top;\n",
       "    }\n",
       "\n",
       "    .dataframe thead th {\n",
       "        text-align: right;\n",
       "    }\n",
       "</style>\n",
       "<table border=\"1\" class=\"dataframe\">\n",
       "  <thead>\n",
       "    <tr style=\"text-align: right;\">\n",
       "      <th></th>\n",
       "      <th>store_ID</th>\n",
       "      <th>day_of_week</th>\n",
       "      <th>nb_customers_on_day</th>\n",
       "      <th>open</th>\n",
       "      <th>promotion</th>\n",
       "      <th>state_holiday</th>\n",
       "      <th>month</th>\n",
       "      <th>sales_prediction</th>\n",
       "    </tr>\n",
       "  </thead>\n",
       "  <tbody>\n",
       "    <tr>\n",
       "      <th>0</th>\n",
       "      <td>415</td>\n",
       "      <td>7</td>\n",
       "      <td>0</td>\n",
       "      <td>0</td>\n",
       "      <td>0</td>\n",
       "      <td>0</td>\n",
       "      <td>3</td>\n",
       "      <td>96.723179</td>\n",
       "    </tr>\n",
       "    <tr>\n",
       "      <th>1</th>\n",
       "      <td>27</td>\n",
       "      <td>7</td>\n",
       "      <td>0</td>\n",
       "      <td>0</td>\n",
       "      <td>0</td>\n",
       "      <td>0</td>\n",
       "      <td>12</td>\n",
       "      <td>3.595498</td>\n",
       "    </tr>\n",
       "    <tr>\n",
       "      <th>2</th>\n",
       "      <td>404</td>\n",
       "      <td>3</td>\n",
       "      <td>657</td>\n",
       "      <td>1</td>\n",
       "      <td>1</td>\n",
       "      <td>0</td>\n",
       "      <td>3</td>\n",
       "      <td>6729.613810</td>\n",
       "    </tr>\n",
       "    <tr>\n",
       "      <th>3</th>\n",
       "      <td>683</td>\n",
       "      <td>2</td>\n",
       "      <td>862</td>\n",
       "      <td>1</td>\n",
       "      <td>0</td>\n",
       "      <td>0</td>\n",
       "      <td>1</td>\n",
       "      <td>7294.005958</td>\n",
       "    </tr>\n",
       "    <tr>\n",
       "      <th>4</th>\n",
       "      <td>920</td>\n",
       "      <td>3</td>\n",
       "      <td>591</td>\n",
       "      <td>1</td>\n",
       "      <td>1</td>\n",
       "      <td>0</td>\n",
       "      <td>3</td>\n",
       "      <td>6151.739971</td>\n",
       "    </tr>\n",
       "  </tbody>\n",
       "</table>\n",
       "</div>"
      ],
      "text/plain": [
       "  store_ID day_of_week  nb_customers_on_day  open  promotion  state_holiday  \\\n",
       "0      415           7                    0     0          0              0   \n",
       "1       27           7                    0     0          0              0   \n",
       "2      404           3                  657     1          1              0   \n",
       "3      683           2                  862     1          0              0   \n",
       "4      920           3                  591     1          1              0   \n",
       "\n",
       "   month  sales_prediction  \n",
       "0      3         96.723179  \n",
       "1     12          3.595498  \n",
       "2      3       6729.613810  \n",
       "3      1       7294.005958  \n",
       "4      3       6151.739971  "
      ]
     },
     "metadata": {},
     "output_type": "display_data"
    },
    {
     "data": {
      "text/html": [
       "<div>\n",
       "<style scoped>\n",
       "    .dataframe tbody tr th:only-of-type {\n",
       "        vertical-align: middle;\n",
       "    }\n",
       "\n",
       "    .dataframe tbody tr th {\n",
       "        vertical-align: top;\n",
       "    }\n",
       "\n",
       "    .dataframe thead th {\n",
       "        text-align: right;\n",
       "    }\n",
       "</style>\n",
       "<table border=\"1\" class=\"dataframe\">\n",
       "  <thead>\n",
       "    <tr style=\"text-align: right;\">\n",
       "      <th></th>\n",
       "      <th>store_ID</th>\n",
       "      <th>day_of_week</th>\n",
       "      <th>nb_customers_on_day</th>\n",
       "      <th>open</th>\n",
       "      <th>promotion</th>\n",
       "      <th>state_holiday</th>\n",
       "      <th>month</th>\n",
       "      <th>sales_prediction</th>\n",
       "    </tr>\n",
       "  </thead>\n",
       "  <tbody>\n",
       "    <tr>\n",
       "      <th>0</th>\n",
       "      <td>415</td>\n",
       "      <td>7</td>\n",
       "      <td>0</td>\n",
       "      <td>0</td>\n",
       "      <td>0</td>\n",
       "      <td>0</td>\n",
       "      <td>3</td>\n",
       "      <td>96.723179</td>\n",
       "    </tr>\n",
       "    <tr>\n",
       "      <th>1</th>\n",
       "      <td>27</td>\n",
       "      <td>7</td>\n",
       "      <td>0</td>\n",
       "      <td>0</td>\n",
       "      <td>0</td>\n",
       "      <td>0</td>\n",
       "      <td>12</td>\n",
       "      <td>3.595498</td>\n",
       "    </tr>\n",
       "    <tr>\n",
       "      <th>2</th>\n",
       "      <td>404</td>\n",
       "      <td>3</td>\n",
       "      <td>657</td>\n",
       "      <td>1</td>\n",
       "      <td>1</td>\n",
       "      <td>0</td>\n",
       "      <td>3</td>\n",
       "      <td>6729.613810</td>\n",
       "    </tr>\n",
       "    <tr>\n",
       "      <th>3</th>\n",
       "      <td>683</td>\n",
       "      <td>2</td>\n",
       "      <td>862</td>\n",
       "      <td>1</td>\n",
       "      <td>0</td>\n",
       "      <td>0</td>\n",
       "      <td>1</td>\n",
       "      <td>7294.005958</td>\n",
       "    </tr>\n",
       "    <tr>\n",
       "      <th>4</th>\n",
       "      <td>920</td>\n",
       "      <td>3</td>\n",
       "      <td>591</td>\n",
       "      <td>1</td>\n",
       "      <td>1</td>\n",
       "      <td>0</td>\n",
       "      <td>3</td>\n",
       "      <td>6151.739971</td>\n",
       "    </tr>\n",
       "  </tbody>\n",
       "</table>\n",
       "</div>"
      ],
      "text/plain": [
       "  store_ID day_of_week  nb_customers_on_day  open  promotion  state_holiday  \\\n",
       "0      415           7                    0     0          0              0   \n",
       "1       27           7                    0     0          0              0   \n",
       "2      404           3                  657     1          1              0   \n",
       "3      683           2                  862     1          0              0   \n",
       "4      920           3                  591     1          1              0   \n",
       "\n",
       "   month  sales_prediction  \n",
       "0      3         96.723179  \n",
       "1     12          3.595498  \n",
       "2      3       6729.613810  \n",
       "3      1       7294.005958  \n",
       "4      3       6151.739971  "
      ]
     },
     "metadata": {},
     "output_type": "display_data"
    }
   ],
   "source": [
    "display(sales.head(5))\n",
    "display(validation_data.head(5))\n",
    "display(validate_finaldf.head(5))"
   ]
  },
  {
   "cell_type": "code",
   "execution_count": 116,
   "id": "e05cf2a7",
   "metadata": {},
   "outputs": [],
   "source": [
    "validate_finaldf.to_csv('sales_prediction_g1_df.csv', index=False)"
   ]
  },
  {
   "cell_type": "code",
   "execution_count": null,
   "id": "7679e30f",
   "metadata": {},
   "outputs": [],
   "source": [
    "# Save all the necessary elements in files to share with a user\n",
    "\n",
    "import pickle\n",
    "\n",
    "# save the Standardizer to disk\n",
    "filename = 'STANDARDIZER.sav'\n",
    "pickle.dump(scale, open(filename, 'wb'))\n",
    "\n",
    "# save the model to disk\n",
    "filename = 'MODEL.sav'\n",
    "pickle.dump(model, open(filename, 'wb'))"
   ]
  },
  {
   "cell_type": "code",
   "execution_count": null,
   "id": "1ccc0d02",
   "metadata": {},
   "outputs": [],
   "source": [
    "## SAVE THIS FUNCTION IN A .py FILE ##\n",
    "import pandas as pd\n",
    "import pickle\n",
    "#from sklearn.preprocessing import StandardScaler\n",
    "\n",
    "def pre_processing(features):\n",
    "    # Feature Scaling\n",
    "    # If there were feature selection we would include it here\n",
    "  \n",
    "    scale = pickle.load(open('STANDARDIZER.sav', 'rb'))\n",
    "    return pd.DataFrame(scale.transform(features) , columns = features.columns)"
   ]
  },
  {
   "cell_type": "code",
   "execution_count": null,
   "id": "310547a5",
   "metadata": {},
   "outputs": [],
   "source": [
    "## New data point....\n",
    "\n",
    "\n"
   ]
  },
  {
   "cell_type": "code",
   "execution_count": null,
   "id": "f79042d8",
   "metadata": {},
   "outputs": [],
   "source": [
    "#from jrm_preprocessing import pre_processing\n",
    "\n",
    "import pickle\n",
    "import pandas as pd\n",
    "from jrm_preprocessing import pre_processing\n",
    "\n",
    "new_point = pd.DataFrame.from_dict(new_point)\n",
    "display(new_point)\n",
    "\n",
    "new_point_process = pre_processing(new_point)\n",
    "display(new_point_procss)\n",
    "\n",
    "# load the model from disk\n",
    "model = pickle.load(open('MODEL.sav', 'rb'))\n",
    "model.predict(new_point_process)"
   ]
  }
 ],
 "metadata": {
  "kernelspec": {
   "display_name": "Python 3 (ipykernel)",
   "language": "python",
   "name": "python3"
  },
  "language_info": {
   "codemirror_mode": {
    "name": "ipython",
    "version": 3
   },
   "file_extension": ".py",
   "mimetype": "text/x-python",
   "name": "python",
   "nbconvert_exporter": "python",
   "pygments_lexer": "ipython3",
   "version": "3.9.6"
  }
 },
 "nbformat": 4,
 "nbformat_minor": 5
}
