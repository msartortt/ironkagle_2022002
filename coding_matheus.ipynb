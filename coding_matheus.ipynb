{
 "cells": [
  {
   "cell_type": "markdown",
   "id": "da86f2f5-7790-4549-ac88-b37099dd271f",
   "metadata": {},
   "source": [
    "# Understanding our data"
   ]
  },
  {
   "cell_type": "code",
   "execution_count": 1,
   "id": "38b5954d-40c4-4616-a620-bdd302772944",
   "metadata": {},
   "outputs": [],
   "source": [
    "import pandas as pd\n",
    "import numpy as np"
   ]
  },
  {
   "cell_type": "code",
   "execution_count": 2,
   "id": "649a3bbc-efcd-4033-bc65-9f6dcc38155d",
   "metadata": {},
   "outputs": [],
   "source": [
    "sales = pd.read_csv('sales.csv')"
   ]
  },
  {
   "cell_type": "code",
   "execution_count": 3,
   "id": "2693245e-467f-46e0-8cd6-e8f324f2dbc4",
   "metadata": {},
   "outputs": [
    {
     "data": {
      "text/html": [
       "<div>\n",
       "<style scoped>\n",
       "    .dataframe tbody tr th:only-of-type {\n",
       "        vertical-align: middle;\n",
       "    }\n",
       "\n",
       "    .dataframe tbody tr th {\n",
       "        vertical-align: top;\n",
       "    }\n",
       "\n",
       "    .dataframe thead th {\n",
       "        text-align: right;\n",
       "    }\n",
       "</style>\n",
       "<table border=\"1\" class=\"dataframe\">\n",
       "  <thead>\n",
       "    <tr style=\"text-align: right;\">\n",
       "      <th></th>\n",
       "      <th>Unnamed: 0</th>\n",
       "      <th>store_ID</th>\n",
       "      <th>day_of_week</th>\n",
       "      <th>date</th>\n",
       "      <th>nb_customers_on_day</th>\n",
       "      <th>open</th>\n",
       "      <th>promotion</th>\n",
       "      <th>state_holiday</th>\n",
       "      <th>school_holiday</th>\n",
       "      <th>sales</th>\n",
       "    </tr>\n",
       "  </thead>\n",
       "  <tbody>\n",
       "    <tr>\n",
       "      <th>0</th>\n",
       "      <td>425390</td>\n",
       "      <td>366</td>\n",
       "      <td>4</td>\n",
       "      <td>2013-04-18</td>\n",
       "      <td>517</td>\n",
       "      <td>1</td>\n",
       "      <td>0</td>\n",
       "      <td>0</td>\n",
       "      <td>0</td>\n",
       "      <td>4422</td>\n",
       "    </tr>\n",
       "    <tr>\n",
       "      <th>1</th>\n",
       "      <td>291687</td>\n",
       "      <td>394</td>\n",
       "      <td>6</td>\n",
       "      <td>2015-04-11</td>\n",
       "      <td>694</td>\n",
       "      <td>1</td>\n",
       "      <td>0</td>\n",
       "      <td>0</td>\n",
       "      <td>0</td>\n",
       "      <td>8297</td>\n",
       "    </tr>\n",
       "    <tr>\n",
       "      <th>2</th>\n",
       "      <td>411278</td>\n",
       "      <td>807</td>\n",
       "      <td>4</td>\n",
       "      <td>2013-08-29</td>\n",
       "      <td>970</td>\n",
       "      <td>1</td>\n",
       "      <td>1</td>\n",
       "      <td>0</td>\n",
       "      <td>0</td>\n",
       "      <td>9729</td>\n",
       "    </tr>\n",
       "    <tr>\n",
       "      <th>3</th>\n",
       "      <td>664714</td>\n",
       "      <td>802</td>\n",
       "      <td>2</td>\n",
       "      <td>2013-05-28</td>\n",
       "      <td>473</td>\n",
       "      <td>1</td>\n",
       "      <td>1</td>\n",
       "      <td>0</td>\n",
       "      <td>0</td>\n",
       "      <td>6513</td>\n",
       "    </tr>\n",
       "    <tr>\n",
       "      <th>4</th>\n",
       "      <td>540835</td>\n",
       "      <td>726</td>\n",
       "      <td>4</td>\n",
       "      <td>2013-10-10</td>\n",
       "      <td>1068</td>\n",
       "      <td>1</td>\n",
       "      <td>1</td>\n",
       "      <td>0</td>\n",
       "      <td>0</td>\n",
       "      <td>10882</td>\n",
       "    </tr>\n",
       "  </tbody>\n",
       "</table>\n",
       "</div>"
      ],
      "text/plain": [
       "   Unnamed: 0  store_ID  day_of_week        date  nb_customers_on_day  open  \\\n",
       "0      425390       366            4  2013-04-18                  517     1   \n",
       "1      291687       394            6  2015-04-11                  694     1   \n",
       "2      411278       807            4  2013-08-29                  970     1   \n",
       "3      664714       802            2  2013-05-28                  473     1   \n",
       "4      540835       726            4  2013-10-10                 1068     1   \n",
       "\n",
       "   promotion state_holiday  school_holiday  sales  \n",
       "0          0             0               0   4422  \n",
       "1          0             0               0   8297  \n",
       "2          1             0               0   9729  \n",
       "3          1             0               0   6513  \n",
       "4          1             0               0  10882  "
      ]
     },
     "execution_count": 3,
     "metadata": {},
     "output_type": "execute_result"
    }
   ],
   "source": [
    "sales.head()"
   ]
  },
  {
   "cell_type": "code",
   "execution_count": 4,
   "id": "e3fe4661-069c-45ca-808a-7b1f4e37c19c",
   "metadata": {},
   "outputs": [],
   "source": [
    "sales.drop(columns=('Unnamed: 0'),axis=1, inplace = True)"
   ]
  },
  {
   "cell_type": "code",
   "execution_count": 5,
   "id": "694813ad-990d-400e-a13a-fd67014ed9eb",
   "metadata": {},
   "outputs": [
    {
     "name": "stdout",
     "output_type": "stream",
     "text": [
      "<class 'pandas.core.frame.DataFrame'>\n",
      "RangeIndex: 640840 entries, 0 to 640839\n",
      "Data columns (total 9 columns):\n",
      " #   Column               Non-Null Count   Dtype \n",
      "---  ------               --------------   ----- \n",
      " 0   store_ID             640840 non-null  int64 \n",
      " 1   day_of_week          640840 non-null  int64 \n",
      " 2   date                 640840 non-null  object\n",
      " 3   nb_customers_on_day  640840 non-null  int64 \n",
      " 4   open                 640840 non-null  int64 \n",
      " 5   promotion            640840 non-null  int64 \n",
      " 6   state_holiday        640840 non-null  object\n",
      " 7   school_holiday       640840 non-null  int64 \n",
      " 8   sales                640840 non-null  int64 \n",
      "dtypes: int64(7), object(2)\n",
      "memory usage: 44.0+ MB\n"
     ]
    }
   ],
   "source": [
    "sales.info()"
   ]
  },
  {
   "cell_type": "code",
   "execution_count": 6,
   "id": "bcc41192-5c5f-4c9a-8f30-435f01fc28f1",
   "metadata": {},
   "outputs": [],
   "source": [
    "# We saw that we need to transform our features to their correct type\n",
    "\n",
    "sales['open'] = sales['open'].astype(int)\n",
    "sales['promotion'] = sales['promotion'].astype(int)\n",
    "sales['school_holiday'] = sales['school_holiday'].astype(int)\n",
    "\n",
    "sales['store_ID'] = sales['store_ID'].astype(object)\n",
    "sales['day_of_week'] = sales['day_of_week'].astype(object)"
   ]
  },
  {
   "cell_type": "code",
   "execution_count": 7,
   "id": "69dc8c55-b565-40ee-9e9c-8bab53ab3ce2",
   "metadata": {},
   "outputs": [],
   "source": [
    "# StateHoliday indicates a state holiday. Normally all stores, with few exceptions,\n",
    "# are closed on state holidays. Note that all schools are closed on public holidays and weekends.\n",
    "# a = public holiday, b = Easter holiday, c = Christmas, 0 = None\n",
    "\n",
    "# As we saw that it doesn't matter much what tipe orf holiday it is, we will creat a boolean column just to state\n",
    "# if it is or not a holiday\n",
    "\n",
    "sales['state_holiday'] = sales['state_holiday'].replace('a',1).replace('b',1).replace('c',1)\n",
    "sales['state_holiday'] = sales['state_holiday'].astype(int)"
   ]
  },
  {
   "cell_type": "code",
   "execution_count": 8,
   "id": "2552511c-9c68-46e7-9118-afb8c80c3df3",
   "metadata": {},
   "outputs": [],
   "source": [
    "# We need to correct our date feature to a numerical value in order to be able to process it\n",
    "sales_date_num = sales.copy()\n",
    "\n",
    "from datetime import datetime\n",
    "\n",
    "def date_to_ordinal(date):\n",
    "    return datetime.strptime(date, '%Y-%m-%d').toordinal()\n",
    "\n",
    "sales_date_num['date'] = sales_date_num['date'].apply(date_to_ordinal)"
   ]
  },
  {
   "cell_type": "code",
   "execution_count": 9,
   "id": "56b34a8e-3fb5-4892-be20-c341201cfcda",
   "metadata": {},
   "outputs": [
    {
     "name": "stdout",
     "output_type": "stream",
     "text": [
      "<class 'pandas.core.frame.DataFrame'>\n",
      "RangeIndex: 640840 entries, 0 to 640839\n",
      "Data columns (total 9 columns):\n",
      " #   Column               Non-Null Count   Dtype \n",
      "---  ------               --------------   ----- \n",
      " 0   store_ID             640840 non-null  object\n",
      " 1   day_of_week          640840 non-null  object\n",
      " 2   date                 640840 non-null  int64 \n",
      " 3   nb_customers_on_day  640840 non-null  int64 \n",
      " 4   open                 640840 non-null  int64 \n",
      " 5   promotion            640840 non-null  int64 \n",
      " 6   state_holiday        640840 non-null  int64 \n",
      " 7   school_holiday       640840 non-null  int64 \n",
      " 8   sales                640840 non-null  int64 \n",
      "dtypes: int64(7), object(2)\n",
      "memory usage: 44.0+ MB\n"
     ]
    }
   ],
   "source": [
    "sales_date_num.info()"
   ]
  },
  {
   "cell_type": "code",
   "execution_count": 10,
   "id": "5339bf7d-1f5a-4b5d-afe3-c9cf9affb921",
   "metadata": {},
   "outputs": [
    {
     "name": "stderr",
     "output_type": "stream",
     "text": [
      "/var/folders/zl/64_yxwls4ld4zjxrnk6t2yth0000gn/T/ipykernel_1488/4267753965.py:6: DeprecationWarning: `np.bool` is a deprecated alias for the builtin `bool`. To silence this warning, use `bool` by itself. Doing this will not modify any behavior and is safe. If you specifically wanted the numpy scalar type, use `np.bool_` here.\n",
      "Deprecated in NumPy 1.20; for more details and guidance: https://numpy.org/devdocs/release/1.20.0-notes.html#deprecations\n",
      "  mask = np.triu(np.ones_like(sales_date_num.corr(), dtype=np.bool))\n"
     ]
    },
    {
     "data": {
      "text/plain": [
       "Text(0.5, 1.0, 'Triangle Correlation Heatmap')"
      ]
     },
     "execution_count": 10,
     "metadata": {},
     "output_type": "execute_result"
    },
    {
     "data": {
      "image/png": "[encoded data removed]",
      "text/plain": [
       "<Figure size 1152x432 with 2 Axes>"
      ]
     },
     "metadata": {
      "needs_background": "light"
     },
     "output_type": "display_data"
    }
   ],
   "source": [
    "%matplotlib inline\n",
    "import matplotlib.pyplot as plt\n",
    "import seaborn as sns\n",
    "\n",
    "plt.figure(figsize=(16, 6))\n",
    "mask = np.triu(np.ones_like(sales_date_num.corr(), dtype=np.bool))\n",
    "heatmap = sns.heatmap(sales_date_num.corr(), mask=mask, vmin=-1, vmax=1, annot=True, cmap='BrBG')\n",
    "heatmap.set_title('Triangle Correlation Heatmap', fontdict={'fontsize':18}, pad=16)"
   ]
  },
  {
   "cell_type": "code",
   "execution_count": 11,
   "id": "881179a6-238a-4eb1-b701-b157fb9f7049",
   "metadata": {},
   "outputs": [
    {
     "data": {
      "text/plain": [
       "Text(0.5, 1.0, 'Features Correlating with Type')"
      ]
     },
     "execution_count": 11,
     "metadata": {},
     "output_type": "execute_result"
    },
    {
     "data": {
      "image/png": "[encoded data removed]",
      "text/plain": [
       "<Figure size 576x864 with 2 Axes>"
      ]
     },
     "metadata": {
      "needs_background": "light"
     },
     "output_type": "display_data"
    }
   ],
   "source": [
    "# Just checking the correlation with our target\n",
    "\n",
    "plt.figure(figsize=(8, 12))\n",
    "heatmap = sns.heatmap(sales_date_num.corr()[['sales']].sort_values(by='sales', ascending=False), vmin=-1, vmax=1, annot=True, cmap='BrBG')\n",
    "heatmap.set_title('Features Correlating with Type', fontdict={'fontsize':18}, pad=16)"
   ]
  },
  {
   "cell_type": "code",
   "execution_count": 12,
   "id": "d2b237ef-d9bb-4d3e-8243-63e8874776b8",
   "metadata": {},
   "outputs": [
    {
     "name": "stdout",
     "output_type": "stream",
     "text": [
      "The r2 is:  0.852461723295661\n",
      "The rmse is:  1477.0267604598484\n"
     ]
    }
   ],
   "source": [
    "# Instantiating a LinearRegression Model\n",
    "from sklearn.linear_model import LinearRegression\n",
    "\n",
    "model = LinearRegression()\n",
    "\n",
    "# Creating two arrays for the feature and target\n",
    "y = sales_date_num['sales']\n",
    "X = sales_date_num.drop('sales',  axis=1)\n",
    "\n",
    "# Splitting the datasets into training and testing\n",
    "from sklearn.model_selection import train_test_split\n",
    "\n",
    "X_train, X_test, y_train, y_test = train_test_split(X, y, shuffle=True, train_size=0.8)\n",
    "\n",
    "# Fitting our model\n",
    "model.fit(X_train, y_train)\n",
    "    \n",
    "# Running Evaluation Metrics\n",
    "from sklearn.metrics import mean_squared_error, r2_score\n",
    "\n",
    "predictions = model.predict(X_test)\n",
    "r2 = r2_score(y_test, predictions)\n",
    "rmse = mean_squared_error(y_test, predictions, squared=False)\n",
    "print('The r2 is: ', r2)\n",
    "print('The rmse is: ', rmse)"
   ]
  },
  {
   "cell_type": "code",
   "execution_count": 13,
   "id": "0c3f96b4-4bc3-4ed7-8d10-6b2cbac28347",
   "metadata": {},
   "outputs": [],
   "source": [
    "# We saw that school_holiday doesn't have a strong correlation to any of our features and target,\n",
    "# So we will see if we get a better score without this column\n",
    "sales_featsel = sales_date_num.drop(columns='school_holiday',axis=1)"
   ]
  },
  {
   "cell_type": "code",
   "execution_count": 14,
   "id": "6865e4f8-d4d9-4318-b898-1c6532a68f96",
   "metadata": {},
   "outputs": [
    {
     "name": "stdout",
     "output_type": "stream",
     "text": [
      "The r2 is:  0.8545506786533777\n",
      "The rmse is:  1471.1537866948656\n"
     ]
    }
   ],
   "source": [
    "# Instantiating a LinearRegression Model\n",
    "model = LinearRegression()\n",
    "\n",
    "# Creating two arrays for the feature and target\n",
    "y = sales_featsel['sales']\n",
    "X = sales_featsel.drop('sales',  axis=1)\n",
    "\n",
    "# Splitting the datasets into training and testing\n",
    "\n",
    "X_train, X_test, y_train, y_test = train_test_split(X, y, shuffle=True, train_size=0.8)\n",
    "\n",
    "# Fitting our model\n",
    "model.fit(X_train, y_train)\n",
    "    \n",
    "# Running Evaluation Metrics\n",
    "\n",
    "predictions = model.predict(X_test)\n",
    "r2 = r2_score(y_test, predictions)\n",
    "rmse = mean_squared_error(y_test, predictions, squared=False)\n",
    "print('The r2 is: ', r2)\n",
    "print('The rmse is: ', rmse)"
   ]
  },
  {
   "cell_type": "code",
   "execution_count": 15,
   "id": "da67f512-ce4d-4bee-8052-ccc476f40f41",
   "metadata": {},
   "outputs": [],
   "source": [
    "# So... even that school_holiday doesn't have a strong correlation, droping it makes our R^2 be lower\n",
    "# Beacause of that we decided to keep it"
   ]
  },
  {
   "cell_type": "code",
   "execution_count": 16,
   "id": "1499e711-260d-469b-a5c7-71fc9c79c8d9",
   "metadata": {},
   "outputs": [],
   "source": [
    "# Also, before doing all of this we've run our model without any chances in our dataset (in other computer).\n",
    "# The values obtained was:\n",
    "\n",
    "# The r2 is:  0.8541070570089223\n",
    "# The rmse is:  1470.1437494420563\n",
    "\n",
    "# Conclusion so far: we needed to do some changes"
   ]
  },
  {
   "cell_type": "code",
   "execution_count": 17,
   "id": "7134fa2a-b82d-4f5e-b1bf-69c1412b6904",
   "metadata": {},
   "outputs": [
    {
     "data": {
      "text/html": [
       "<div>\n",
       "<style scoped>\n",
       "    .dataframe tbody tr th:only-of-type {\n",
       "        vertical-align: middle;\n",
       "    }\n",
       "\n",
       "    .dataframe tbody tr th {\n",
       "        vertical-align: top;\n",
       "    }\n",
       "\n",
       "    .dataframe thead th {\n",
       "        text-align: right;\n",
       "    }\n",
       "</style>\n",
       "<table border=\"1\" class=\"dataframe\">\n",
       "  <thead>\n",
       "    <tr style=\"text-align: right;\">\n",
       "      <th></th>\n",
       "      <th>date</th>\n",
       "      <th>nb_customers_on_day</th>\n",
       "      <th>open</th>\n",
       "      <th>promotion</th>\n",
       "      <th>state_holiday</th>\n",
       "      <th>school_holiday</th>\n",
       "      <th>sales</th>\n",
       "    </tr>\n",
       "  </thead>\n",
       "  <tbody>\n",
       "    <tr>\n",
       "      <th>count</th>\n",
       "      <td>640840.000000</td>\n",
       "      <td>640840.000000</td>\n",
       "      <td>640840.000000</td>\n",
       "      <td>640840.000000</td>\n",
       "      <td>640840.00000</td>\n",
       "      <td>640840.000000</td>\n",
       "      <td>640840.000000</td>\n",
       "    </tr>\n",
       "    <tr>\n",
       "      <th>mean</th>\n",
       "      <td>735334.086967</td>\n",
       "      <td>633.398577</td>\n",
       "      <td>0.830185</td>\n",
       "      <td>0.381718</td>\n",
       "      <td>0.03071</td>\n",
       "      <td>0.178472</td>\n",
       "      <td>5777.469011</td>\n",
       "    </tr>\n",
       "    <tr>\n",
       "      <th>std</th>\n",
       "      <td>274.469985</td>\n",
       "      <td>464.094416</td>\n",
       "      <td>0.375470</td>\n",
       "      <td>0.485808</td>\n",
       "      <td>0.17253</td>\n",
       "      <td>0.382910</td>\n",
       "      <td>3851.338083</td>\n",
       "    </tr>\n",
       "    <tr>\n",
       "      <th>min</th>\n",
       "      <td>734869.000000</td>\n",
       "      <td>0.000000</td>\n",
       "      <td>0.000000</td>\n",
       "      <td>0.000000</td>\n",
       "      <td>0.00000</td>\n",
       "      <td>0.000000</td>\n",
       "      <td>0.000000</td>\n",
       "    </tr>\n",
       "    <tr>\n",
       "      <th>25%</th>\n",
       "      <td>735097.000000</td>\n",
       "      <td>405.000000</td>\n",
       "      <td>1.000000</td>\n",
       "      <td>0.000000</td>\n",
       "      <td>0.00000</td>\n",
       "      <td>0.000000</td>\n",
       "      <td>3731.000000</td>\n",
       "    </tr>\n",
       "    <tr>\n",
       "      <th>50%</th>\n",
       "      <td>735325.000000</td>\n",
       "      <td>609.000000</td>\n",
       "      <td>1.000000</td>\n",
       "      <td>0.000000</td>\n",
       "      <td>0.00000</td>\n",
       "      <td>0.000000</td>\n",
       "      <td>5746.000000</td>\n",
       "    </tr>\n",
       "    <tr>\n",
       "      <th>75%</th>\n",
       "      <td>735579.000000</td>\n",
       "      <td>838.000000</td>\n",
       "      <td>1.000000</td>\n",
       "      <td>1.000000</td>\n",
       "      <td>0.00000</td>\n",
       "      <td>0.000000</td>\n",
       "      <td>7860.000000</td>\n",
       "    </tr>\n",
       "    <tr>\n",
       "      <th>max</th>\n",
       "      <td>735810.000000</td>\n",
       "      <td>5458.000000</td>\n",
       "      <td>1.000000</td>\n",
       "      <td>1.000000</td>\n",
       "      <td>1.00000</td>\n",
       "      <td>1.000000</td>\n",
       "      <td>41551.000000</td>\n",
       "    </tr>\n",
       "  </tbody>\n",
       "</table>\n",
       "</div>"
      ],
      "text/plain": [
       "                date  nb_customers_on_day           open      promotion  \\\n",
       "count  640840.000000        640840.000000  640840.000000  640840.000000   \n",
       "mean   735334.086967           633.398577       0.830185       0.381718   \n",
       "std       274.469985           464.094416       0.375470       0.485808   \n",
       "min    734869.000000             0.000000       0.000000       0.000000   \n",
       "25%    735097.000000           405.000000       1.000000       0.000000   \n",
       "50%    735325.000000           609.000000       1.000000       0.000000   \n",
       "75%    735579.000000           838.000000       1.000000       1.000000   \n",
       "max    735810.000000          5458.000000       1.000000       1.000000   \n",
       "\n",
       "       state_holiday  school_holiday          sales  \n",
       "count   640840.00000   640840.000000  640840.000000  \n",
       "mean         0.03071        0.178472    5777.469011  \n",
       "std          0.17253        0.382910    3851.338083  \n",
       "min          0.00000        0.000000       0.000000  \n",
       "25%          0.00000        0.000000    3731.000000  \n",
       "50%          0.00000        0.000000    5746.000000  \n",
       "75%          0.00000        0.000000    7860.000000  \n",
       "max          1.00000        1.000000   41551.000000  "
      ]
     },
     "execution_count": 17,
     "metadata": {},
     "output_type": "execute_result"
    }
   ],
   "source": [
    "sales_date_num.describe()"
   ]
  },
  {
   "cell_type": "code",
   "execution_count": 18,
   "id": "35d39646-c438-49ee-ac34-5eace411ca65",
   "metadata": {},
   "outputs": [
    {
     "data": {
      "text/plain": [
       "<matplotlib.collections.PathCollection at 0x7fec741b5fa0>"
      ]
     },
     "execution_count": 18,
     "metadata": {},
     "output_type": "execute_result"
    },
    {
     "data": {
      "image/png": "[encoded data removed]",
      "text/plain": [
       "<Figure size 432x288 with 1 Axes>"
      ]
     },
     "metadata": {
      "needs_background": "light"
     },
     "output_type": "display_data"
    }
   ],
   "source": [
    "plt.scatter(sales_date_num['nb_customers_on_day'],sales_date_num['sales'])"
   ]
  },
  {
   "cell_type": "code",
   "execution_count": 19,
   "id": "5c18fed9-ea6f-4bce-8a0c-746ae44405be",
   "metadata": {},
   "outputs": [
    {
     "data": {
      "text/html": [
       "<div>\n",
       "<style scoped>\n",
       "    .dataframe tbody tr th:only-of-type {\n",
       "        vertical-align: middle;\n",
       "    }\n",
       "\n",
       "    .dataframe tbody tr th {\n",
       "        vertical-align: top;\n",
       "    }\n",
       "\n",
       "    .dataframe thead th {\n",
       "        text-align: right;\n",
       "    }\n",
       "</style>\n",
       "<table border=\"1\" class=\"dataframe\">\n",
       "  <thead>\n",
       "    <tr style=\"text-align: right;\">\n",
       "      <th></th>\n",
       "      <th>store_ID</th>\n",
       "      <th>day_of_week</th>\n",
       "      <th>nb_customers_on_day</th>\n",
       "      <th>open</th>\n",
       "      <th>promotion</th>\n",
       "      <th>state_holiday</th>\n",
       "      <th>school_holiday</th>\n",
       "      <th>sales</th>\n",
       "      <th>year</th>\n",
       "      <th>month</th>\n",
       "    </tr>\n",
       "  </thead>\n",
       "  <tbody>\n",
       "    <tr>\n",
       "      <th>0</th>\n",
       "      <td>366</td>\n",
       "      <td>4</td>\n",
       "      <td>517</td>\n",
       "      <td>1</td>\n",
       "      <td>0</td>\n",
       "      <td>0</td>\n",
       "      <td>0</td>\n",
       "      <td>4422</td>\n",
       "      <td>2013</td>\n",
       "      <td>4</td>\n",
       "    </tr>\n",
       "    <tr>\n",
       "      <th>1</th>\n",
       "      <td>394</td>\n",
       "      <td>6</td>\n",
       "      <td>694</td>\n",
       "      <td>1</td>\n",
       "      <td>0</td>\n",
       "      <td>0</td>\n",
       "      <td>0</td>\n",
       "      <td>8297</td>\n",
       "      <td>2015</td>\n",
       "      <td>4</td>\n",
       "    </tr>\n",
       "    <tr>\n",
       "      <th>2</th>\n",
       "      <td>807</td>\n",
       "      <td>4</td>\n",
       "      <td>970</td>\n",
       "      <td>1</td>\n",
       "      <td>1</td>\n",
       "      <td>0</td>\n",
       "      <td>0</td>\n",
       "      <td>9729</td>\n",
       "      <td>2013</td>\n",
       "      <td>8</td>\n",
       "    </tr>\n",
       "    <tr>\n",
       "      <th>3</th>\n",
       "      <td>802</td>\n",
       "      <td>2</td>\n",
       "      <td>473</td>\n",
       "      <td>1</td>\n",
       "      <td>1</td>\n",
       "      <td>0</td>\n",
       "      <td>0</td>\n",
       "      <td>6513</td>\n",
       "      <td>2013</td>\n",
       "      <td>5</td>\n",
       "    </tr>\n",
       "    <tr>\n",
       "      <th>4</th>\n",
       "      <td>726</td>\n",
       "      <td>4</td>\n",
       "      <td>1068</td>\n",
       "      <td>1</td>\n",
       "      <td>1</td>\n",
       "      <td>0</td>\n",
       "      <td>0</td>\n",
       "      <td>10882</td>\n",
       "      <td>2013</td>\n",
       "      <td>10</td>\n",
       "    </tr>\n",
       "  </tbody>\n",
       "</table>\n",
       "</div>"
      ],
      "text/plain": [
       "  store_ID day_of_week  nb_customers_on_day  open  promotion  state_holiday  \\\n",
       "0      366           4                  517     1          0              0   \n",
       "1      394           6                  694     1          0              0   \n",
       "2      807           4                  970     1          1              0   \n",
       "3      802           2                  473     1          1              0   \n",
       "4      726           4                 1068     1          1              0   \n",
       "\n",
       "   school_holiday  sales  year  month  \n",
       "0               0   4422  2013      4  \n",
       "1               0   8297  2015      4  \n",
       "2               0   9729  2013      8  \n",
       "3               0   6513  2013      5  \n",
       "4               0  10882  2013     10  "
      ]
     },
     "execution_count": 19,
     "metadata": {},
     "output_type": "execute_result"
    }
   ],
   "source": [
    "# After talking to our TA we will check if treating our date column as a dummy variable wil bring better results\n",
    "\n",
    "sales_date_dummy = sales.copy()\n",
    "\n",
    "sales_date_dummy['year'] = pd.DatetimeIndex(sales_date_dummy['date']).year\n",
    "sales_date_dummy['month'] = pd.DatetimeIndex(sales_date_dummy['date']).month\n",
    "sales_date_dummy.drop(columns=('date'), axis=1,inplace=True)\n",
    "sales_date_dummy.head()"
   ]
  },
  {
   "cell_type": "code",
   "execution_count": 20,
   "id": "6312336e-dfc8-4fce-a72f-afbf32afcf62",
   "metadata": {},
   "outputs": [
    {
     "name": "stderr",
     "output_type": "stream",
     "text": [
      "/var/folders/zl/64_yxwls4ld4zjxrnk6t2yth0000gn/T/ipykernel_1488/1986098010.py:2: DeprecationWarning: `np.bool` is a deprecated alias for the builtin `bool`. To silence this warning, use `bool` by itself. Doing this will not modify any behavior and is safe. If you specifically wanted the numpy scalar type, use `np.bool_` here.\n",
      "Deprecated in NumPy 1.20; for more details and guidance: https://numpy.org/devdocs/release/1.20.0-notes.html#deprecations\n",
      "  mask = np.triu(np.ones_like(sales_date_dummy.corr(), dtype=np.bool))\n"
     ]
    },
    {
     "data": {
      "text/plain": [
       "Text(0.5, 1.0, 'Triangle Correlation Heatmap')"
      ]
     },
     "execution_count": 20,
     "metadata": {},
     "output_type": "execute_result"
    },
    {
     "data": {
      "image/png": "[encoded data removed]",
      "text/plain": [
       "<Figure size 1152x432 with 2 Axes>"
      ]
     },
     "metadata": {
      "needs_background": "light"
     },
     "output_type": "display_data"
    }
   ],
   "source": [
    "plt.figure(figsize=(16, 6))\n",
    "mask = np.triu(np.ones_like(sales_date_dummy.corr(), dtype=np.bool))\n",
    "heatmap = sns.heatmap(sales_date_dummy.corr(), mask=mask, vmin=-1, vmax=1, annot=True, cmap='BrBG')\n",
    "heatmap.set_title('Triangle Correlation Heatmap', fontdict={'fontsize':18}, pad=16)"
   ]
  },
  {
   "cell_type": "code",
   "execution_count": 21,
   "id": "a0e79754-5b02-4970-8863-b0f0f669f000",
   "metadata": {},
   "outputs": [],
   "source": [
    "sales_date_dummy.drop(columns=('year'),axis=1,inplace=True)"
   ]
  },
  {
   "cell_type": "code",
   "execution_count": 22,
   "id": "50891f2f-36de-4f88-bae5-b96420f1b201",
   "metadata": {},
   "outputs": [
    {
     "name": "stdout",
     "output_type": "stream",
     "text": [
      "The r2 is:  0.853278972706956\n",
      "The rmse is:  1476.8105635334214\n"
     ]
    }
   ],
   "source": [
    "# Instantiating a LinearRegression Model\n",
    "model = LinearRegression()\n",
    "\n",
    "# Creating two arrays for the feature and target\n",
    "y = sales_date_dummy['sales']\n",
    "X = sales_date_dummy.drop('sales',  axis=1)\n",
    "\n",
    "# Splitting the datasets into training and testing\n",
    "\n",
    "X_train, X_test, y_train, y_test = train_test_split(X, y, shuffle=True, train_size=0.8)\n",
    "\n",
    "# Fitting our model\n",
    "model.fit(X_train, y_train)\n",
    "    \n",
    "# Running Evaluation Metrics\n",
    "\n",
    "predictions = model.predict(X_test)\n",
    "r2 = r2_score(y_test, predictions)\n",
    "rmse = mean_squared_error(y_test, predictions, squared=False)\n",
    "print('The r2 is: ', r2)\n",
    "print('The rmse is: ', rmse)"
   ]
  },
  {
   "cell_type": "code",
   "execution_count": 23,
   "id": "2b576604-d80c-41b6-b6c7-51251e44f611",
   "metadata": {},
   "outputs": [
    {
     "data": {
      "text/html": [
       "<div>\n",
       "<style scoped>\n",
       "    .dataframe tbody tr th:only-of-type {\n",
       "        vertical-align: middle;\n",
       "    }\n",
       "\n",
       "    .dataframe tbody tr th {\n",
       "        vertical-align: top;\n",
       "    }\n",
       "\n",
       "    .dataframe thead th {\n",
       "        text-align: right;\n",
       "    }\n",
       "</style>\n",
       "<table border=\"1\" class=\"dataframe\">\n",
       "  <thead>\n",
       "    <tr style=\"text-align: right;\">\n",
       "      <th></th>\n",
       "      <th>store_ID</th>\n",
       "      <th>day_of_week</th>\n",
       "      <th>nb_customers_on_day</th>\n",
       "      <th>open</th>\n",
       "      <th>promotion</th>\n",
       "      <th>state_holiday</th>\n",
       "      <th>school_holiday</th>\n",
       "      <th>sales</th>\n",
       "      <th>month_1</th>\n",
       "      <th>month_2</th>\n",
       "      <th>month_3</th>\n",
       "      <th>month_4</th>\n",
       "      <th>month_5</th>\n",
       "      <th>month_6</th>\n",
       "      <th>month_7</th>\n",
       "      <th>month_8</th>\n",
       "      <th>month_9</th>\n",
       "      <th>month_10</th>\n",
       "      <th>month_11</th>\n",
       "      <th>month_12</th>\n",
       "    </tr>\n",
       "  </thead>\n",
       "  <tbody>\n",
       "    <tr>\n",
       "      <th>0</th>\n",
       "      <td>366</td>\n",
       "      <td>4</td>\n",
       "      <td>517</td>\n",
       "      <td>1</td>\n",
       "      <td>0</td>\n",
       "      <td>0</td>\n",
       "      <td>0</td>\n",
       "      <td>4422</td>\n",
       "      <td>0</td>\n",
       "      <td>0</td>\n",
       "      <td>0</td>\n",
       "      <td>1</td>\n",
       "      <td>0</td>\n",
       "      <td>0</td>\n",
       "      <td>0</td>\n",
       "      <td>0</td>\n",
       "      <td>0</td>\n",
       "      <td>0</td>\n",
       "      <td>0</td>\n",
       "      <td>0</td>\n",
       "    </tr>\n",
       "    <tr>\n",
       "      <th>1</th>\n",
       "      <td>394</td>\n",
       "      <td>6</td>\n",
       "      <td>694</td>\n",
       "      <td>1</td>\n",
       "      <td>0</td>\n",
       "      <td>0</td>\n",
       "      <td>0</td>\n",
       "      <td>8297</td>\n",
       "      <td>0</td>\n",
       "      <td>0</td>\n",
       "      <td>0</td>\n",
       "      <td>1</td>\n",
       "      <td>0</td>\n",
       "      <td>0</td>\n",
       "      <td>0</td>\n",
       "      <td>0</td>\n",
       "      <td>0</td>\n",
       "      <td>0</td>\n",
       "      <td>0</td>\n",
       "      <td>0</td>\n",
       "    </tr>\n",
       "    <tr>\n",
       "      <th>2</th>\n",
       "      <td>807</td>\n",
       "      <td>4</td>\n",
       "      <td>970</td>\n",
       "      <td>1</td>\n",
       "      <td>1</td>\n",
       "      <td>0</td>\n",
       "      <td>0</td>\n",
       "      <td>9729</td>\n",
       "      <td>0</td>\n",
       "      <td>0</td>\n",
       "      <td>0</td>\n",
       "      <td>0</td>\n",
       "      <td>0</td>\n",
       "      <td>0</td>\n",
       "      <td>0</td>\n",
       "      <td>1</td>\n",
       "      <td>0</td>\n",
       "      <td>0</td>\n",
       "      <td>0</td>\n",
       "      <td>0</td>\n",
       "    </tr>\n",
       "    <tr>\n",
       "      <th>3</th>\n",
       "      <td>802</td>\n",
       "      <td>2</td>\n",
       "      <td>473</td>\n",
       "      <td>1</td>\n",
       "      <td>1</td>\n",
       "      <td>0</td>\n",
       "      <td>0</td>\n",
       "      <td>6513</td>\n",
       "      <td>0</td>\n",
       "      <td>0</td>\n",
       "      <td>0</td>\n",
       "      <td>0</td>\n",
       "      <td>1</td>\n",
       "      <td>0</td>\n",
       "      <td>0</td>\n",
       "      <td>0</td>\n",
       "      <td>0</td>\n",
       "      <td>0</td>\n",
       "      <td>0</td>\n",
       "      <td>0</td>\n",
       "    </tr>\n",
       "    <tr>\n",
       "      <th>4</th>\n",
       "      <td>726</td>\n",
       "      <td>4</td>\n",
       "      <td>1068</td>\n",
       "      <td>1</td>\n",
       "      <td>1</td>\n",
       "      <td>0</td>\n",
       "      <td>0</td>\n",
       "      <td>10882</td>\n",
       "      <td>0</td>\n",
       "      <td>0</td>\n",
       "      <td>0</td>\n",
       "      <td>0</td>\n",
       "      <td>0</td>\n",
       "      <td>0</td>\n",
       "      <td>0</td>\n",
       "      <td>0</td>\n",
       "      <td>0</td>\n",
       "      <td>1</td>\n",
       "      <td>0</td>\n",
       "      <td>0</td>\n",
       "    </tr>\n",
       "  </tbody>\n",
       "</table>\n",
       "</div>"
      ],
      "text/plain": [
       "  store_ID day_of_week  nb_customers_on_day  open  promotion  state_holiday  \\\n",
       "0      366           4                  517     1          0              0   \n",
       "1      394           6                  694     1          0              0   \n",
       "2      807           4                  970     1          1              0   \n",
       "3      802           2                  473     1          1              0   \n",
       "4      726           4                 1068     1          1              0   \n",
       "\n",
       "   school_holiday  sales  month_1  month_2  month_3  month_4  month_5  \\\n",
       "0               0   4422        0        0        0        1        0   \n",
       "1               0   8297        0        0        0        1        0   \n",
       "2               0   9729        0        0        0        0        0   \n",
       "3               0   6513        0        0        0        0        1   \n",
       "4               0  10882        0        0        0        0        0   \n",
       "\n",
       "   month_6  month_7  month_8  month_9  month_10  month_11  month_12  \n",
       "0        0        0        0        0         0         0         0  \n",
       "1        0        0        0        0         0         0         0  \n",
       "2        0        0        1        0         0         0         0  \n",
       "3        0        0        0        0         0         0         0  \n",
       "4        0        0        0        0         1         0         0  "
      ]
     },
     "execution_count": 23,
     "metadata": {},
     "output_type": "execute_result"
    }
   ],
   "source": [
    "categorical_features = ['month']\n",
    "for col in categorical_features:\n",
    "    dummies = pd.get_dummies(sales_date_dummy[col], prefix=col)\n",
    "    sales_date_dummy = pd.concat([sales_date_dummy, dummies], axis=1)\n",
    "    sales_date_dummy.drop(col, axis=1, inplace=True)\n",
    "    \n",
    "sales_date_dummy.head()"
   ]
  },
  {
   "cell_type": "code",
   "execution_count": 24,
   "id": "0e801593-40a9-46ea-bc41-5fc980906f86",
   "metadata": {},
   "outputs": [
    {
     "name": "stdout",
     "output_type": "stream",
     "text": [
      "The r2 is:  0.8558842263886024\n",
      "The rmse is:  1463.7600154432264\n"
     ]
    }
   ],
   "source": [
    "# Instantiating a LinearRegression Model\n",
    "model = LinearRegression()\n",
    "\n",
    "# Creating two arrays for the feature and target\n",
    "y = sales_date_dummy['sales']\n",
    "X = sales_date_dummy.drop('sales',  axis=1)\n",
    "\n",
    "# Splitting the datasets into training and testing\n",
    "\n",
    "X_train, X_test, y_train, y_test = train_test_split(X, y, shuffle=True, train_size=0.8)\n",
    "\n",
    "# Fitting our model\n",
    "model.fit(X_train, y_train)\n",
    "    \n",
    "# Running Evaluation Metrics\n",
    "\n",
    "predictions = model.predict(X_test)\n",
    "r2 = r2_score(y_test, predictions)\n",
    "rmse = mean_squared_error(y_test, predictions, squared=False)\n",
    "\n",
    "print('The r2 is: ', r2)\n",
    "print('The rmse is: ', rmse)"
   ]
  },
  {
   "cell_type": "code",
   "execution_count": 36,
   "id": "1b49c0f8-d76e-4867-9282-aefcadd9a9f3",
   "metadata": {},
   "outputs": [
    {
     "name": "stdout",
     "output_type": "stream",
     "text": [
      "The r2 is:  0.8087475026317554\n",
      "The rmse is:  1686.2333653594428\n"
     ]
    }
   ],
   "source": [
    "from sklearn.tree import DecisionTreeRegressor\n",
    "\n",
    "clf_model = DecisionTreeRegressor( random_state=42, max_depth=3, min_samples_leaf=20)   \n",
    "clf_model.fit(X_train, y_train)\n",
    "\n",
    "y_predict = clf_model.predict(X_test)\n",
    "\n",
    "r2 = r2_score(y_test, y_predict)\n",
    "rmse = mean_squared_error(y_test, y_predict, squared=False)\n",
    "\n",
    "print('The r2 is: ', r2)\n",
    "print('The rmse is: ', rmse)"
   ]
  },
  {
   "cell_type": "code",
   "execution_count": 37,
   "id": "e4c5f72d-7cd9-4b53-a45d-7884ce71496b",
   "metadata": {},
   "outputs": [
    {
     "name": "stdout",
     "output_type": "stream",
     "text": [
      "The r2 is:  0.8558946921006827\n",
      "The rmse is:  1463.7068652271714\n"
     ]
    }
   ],
   "source": [
    "clf_model = DecisionTreeRegressor(random_state=42, max_depth=5, min_samples_leaf=20)   \n",
    "clf_model.fit(X_train, y_train)\n",
    "\n",
    "y_predict = clf_model.predict(X_test)\n",
    "\n",
    "r2 = r2_score(y_test, y_predict)\n",
    "rmse = mean_squared_error(y_test, y_predict, squared=False)\n",
    "\n",
    "print('The r2 is: ', r2)\n",
    "print('The rmse is: ', rmse)"
   ]
  },
  {
   "cell_type": "code",
   "execution_count": 38,
   "id": "fa3d4c93-e903-4a99-89d8-09c0a0080854",
   "metadata": {},
   "outputs": [
    {
     "name": "stdout",
     "output_type": "stream",
     "text": [
      "The r2 is:  0.8720505716544859\n",
      "The rmse is:  1379.2192050989136\n"
     ]
    }
   ],
   "source": [
    "clf_model = DecisionTreeRegressor(random_state=42, max_depth=7, min_samples_leaf=20)   \n",
    "clf_model.fit(X_train, y_train)\n",
    "\n",
    "y_predict = clf_model.predict(X_test)\n",
    "\n",
    "r2 = r2_score(y_test, y_predict)\n",
    "rmse = mean_squared_error(y_test, y_predict, squared=False)\n",
    "\n",
    "print('The r2 is: ', r2)\n",
    "print('The rmse is: ', rmse)"
   ]
  },
  {
   "cell_type": "code",
   "execution_count": 34,
   "id": "b75d5151-f5b3-4bdf-805e-956ce5885f91",
   "metadata": {},
   "outputs": [
    {
     "name": "stdout",
     "output_type": "stream",
     "text": [
      "The r2 is:  0.8228051384161919\n",
      "The rmse is:  1623.0790901763437\n"
     ]
    }
   ],
   "source": [
    "clf_model = DecisionTreeRegressor(criterion=\"gini\", random_state=42, max_depth=8, min_samples_leaf=20)   \n",
    "clf_model.fit(X_train, y_train)\n",
    "\n",
    "y_predict = clf_model.predict(X_test)\n",
    "\n",
    "r2 = r2_score(y_test, y_predict)\n",
    "rmse = mean_squared_error(y_test, y_predict, squared=False)\n",
    "\n",
    "print('The r2 is: ', r2)\n",
    "print('The rmse is: ', rmse)"
   ]
  },
  {
   "cell_type": "code",
   "execution_count": 39,
   "id": "816ff4d6-9d85-4a20-b715-433840dd5a33",
   "metadata": {},
   "outputs": [
    {
     "name": "stdout",
     "output_type": "stream",
     "text": [
      "The r2 is:  0.814579245999816\n",
      "The rmse is:  1660.325707648551\n"
     ]
    }
   ],
   "source": [
    "from sklearn.ensemble import RandomForestRegressor\n",
    "\n",
    "rand_flor_reg = RandomForestRegressor(max_depth=3, random_state=0)\n",
    "rand_flor_reg.fit(X_train, y_train)\n",
    "\n",
    "y_pred = rand_flor_reg.predict(X_test)\n",
    "\n",
    "r2 = r2_score(y_test, y_pred)\n",
    "rmse = mean_squared_error(y_test, y_pred, squared=False)\n",
    "\n",
    "print('The r2 is: ', r2)\n",
    "print('The rmse is: ', rmse)"
   ]
  },
  {
   "cell_type": "code",
   "execution_count": 40,
   "id": "ad85bc33-1139-46c8-8c1b-c514a45b69cd",
   "metadata": {},
   "outputs": [
    {
     "name": "stdout",
     "output_type": "stream",
     "text": [
      "The r2 is:  0.8610710843432098\n",
      "The rmse is:  1437.1776144457172\n"
     ]
    }
   ],
   "source": [
    "rand_flor_reg = RandomForestRegressor(max_depth=5, random_state=0)\n",
    "rand_flor_reg.fit(X_train, y_train)\n",
    "\n",
    "y_pred = rand_flor_reg.predict(X_test)\n",
    "\n",
    "r2 = r2_score(y_test, y_pred)\n",
    "rmse = mean_squared_error(y_test, y_pred, squared=False)\n",
    "\n",
    "print('The r2 is: ', r2)\n",
    "print('The rmse is: ', rmse)"
   ]
  },
  {
   "cell_type": "code",
   "execution_count": 41,
   "id": "51e2d67f-a220-4b32-b27f-903d02188660",
   "metadata": {},
   "outputs": [
    {
     "name": "stdout",
     "output_type": "stream",
     "text": [
      "The r2 is:  0.8774338998638295\n",
      "The rmse is:  1349.8928743165684\n"
     ]
    }
   ],
   "source": [
    "rand_flor_reg = RandomForestRegressor(max_depth=7, random_state=0)\n",
    "rand_flor_reg.fit(X_train, y_train)\n",
    "\n",
    "y_pred = rand_flor_reg.predict(X_test)\n",
    "\n",
    "r2 = r2_score(y_test, y_pred)\n",
    "rmse = mean_squared_error(y_test, y_pred, squared=False)\n",
    "\n",
    "print('The r2 is: ', r2)\n",
    "print('The rmse is: ', rmse)"
   ]
  },
  {
   "cell_type": "code",
   "execution_count": null,
   "id": "6d14f0c4-af2c-4dec-a12b-cd4d2f01caff",
   "metadata": {},
   "outputs": [],
   "source": []
  },
  {
   "cell_type": "code",
   "execution_count": 44,
   "id": "aca5f318-babe-447a-b24c-82552fd09016",
   "metadata": {},
   "outputs": [
    {
     "data": {
      "text/html": [
       "<div>\n",
       "<style scoped>\n",
       "    .dataframe tbody tr th:only-of-type {\n",
       "        vertical-align: middle;\n",
       "    }\n",
       "\n",
       "    .dataframe tbody tr th {\n",
       "        vertical-align: top;\n",
       "    }\n",
       "\n",
       "    .dataframe thead th {\n",
       "        text-align: right;\n",
       "    }\n",
       "</style>\n",
       "<table border=\"1\" class=\"dataframe\">\n",
       "  <thead>\n",
       "    <tr style=\"text-align: right;\">\n",
       "      <th></th>\n",
       "      <th>store_ID</th>\n",
       "      <th>day_of_week</th>\n",
       "      <th>nb_customers_on_day</th>\n",
       "      <th>open</th>\n",
       "      <th>promotion</th>\n",
       "      <th>state_holiday</th>\n",
       "      <th>school_holiday</th>\n",
       "      <th>sales</th>\n",
       "      <th>month</th>\n",
       "    </tr>\n",
       "  </thead>\n",
       "  <tbody>\n",
       "    <tr>\n",
       "      <th>0</th>\n",
       "      <td>366</td>\n",
       "      <td>4</td>\n",
       "      <td>517</td>\n",
       "      <td>1</td>\n",
       "      <td>0</td>\n",
       "      <td>0</td>\n",
       "      <td>0</td>\n",
       "      <td>4422</td>\n",
       "      <td>4</td>\n",
       "    </tr>\n",
       "    <tr>\n",
       "      <th>1</th>\n",
       "      <td>394</td>\n",
       "      <td>6</td>\n",
       "      <td>694</td>\n",
       "      <td>1</td>\n",
       "      <td>0</td>\n",
       "      <td>0</td>\n",
       "      <td>0</td>\n",
       "      <td>8297</td>\n",
       "      <td>4</td>\n",
       "    </tr>\n",
       "    <tr>\n",
       "      <th>2</th>\n",
       "      <td>807</td>\n",
       "      <td>4</td>\n",
       "      <td>970</td>\n",
       "      <td>1</td>\n",
       "      <td>1</td>\n",
       "      <td>0</td>\n",
       "      <td>0</td>\n",
       "      <td>9729</td>\n",
       "      <td>8</td>\n",
       "    </tr>\n",
       "    <tr>\n",
       "      <th>3</th>\n",
       "      <td>802</td>\n",
       "      <td>2</td>\n",
       "      <td>473</td>\n",
       "      <td>1</td>\n",
       "      <td>1</td>\n",
       "      <td>0</td>\n",
       "      <td>0</td>\n",
       "      <td>6513</td>\n",
       "      <td>5</td>\n",
       "    </tr>\n",
       "    <tr>\n",
       "      <th>4</th>\n",
       "      <td>726</td>\n",
       "      <td>4</td>\n",
       "      <td>1068</td>\n",
       "      <td>1</td>\n",
       "      <td>1</td>\n",
       "      <td>0</td>\n",
       "      <td>0</td>\n",
       "      <td>10882</td>\n",
       "      <td>10</td>\n",
       "    </tr>\n",
       "  </tbody>\n",
       "</table>\n",
       "</div>"
      ],
      "text/plain": [
       "  store_ID day_of_week  nb_customers_on_day  open  promotion  state_holiday  \\\n",
       "0      366           4                  517     1          0              0   \n",
       "1      394           6                  694     1          0              0   \n",
       "2      807           4                  970     1          1              0   \n",
       "3      802           2                  473     1          1              0   \n",
       "4      726           4                 1068     1          1              0   \n",
       "\n",
       "   school_holiday  sales  month  \n",
       "0               0   4422      4  \n",
       "1               0   8297      4  \n",
       "2               0   9729      8  \n",
       "3               0   6513      5  \n",
       "4               0  10882     10  "
      ]
     },
     "execution_count": 44,
     "metadata": {},
     "output_type": "execute_result"
    }
   ],
   "source": [
    "# After talking to our TA we will check if treating our date column as a dummy variable wil bring better results\n",
    "\n",
    "sales_date = sales.copy()\n",
    "\n",
    "sales_date['year'] = pd.DatetimeIndex(sales_date['date']).year\n",
    "sales_date['month'] = pd.DatetimeIndex(sales_date['date']).month\n",
    "sales_date.drop(columns=['date','year'], axis=1,inplace=True)\n",
    "sales_date.head()"
   ]
  },
  {
   "cell_type": "code",
   "execution_count": 53,
   "id": "ff24c2cd-4a53-4225-acfa-01ddd6075295",
   "metadata": {},
   "outputs": [
    {
     "name": "stdout",
     "output_type": "stream",
     "text": [
      "The r2 is:  0.8518388788271197\n",
      "The rmse is:  1483.6699063098254\n"
     ]
    }
   ],
   "source": [
    "######## No month DUMMY!!!!!\n",
    "\n",
    "# Instantiating a LinearRegression Model\n",
    "model = LinearRegression()\n",
    "\n",
    "# Creating two arrays for the feature and target\n",
    "y = sales_date['sales']\n",
    "X = sales_date.drop(columns=['sales'],  axis=1)\n",
    "\n",
    "# Splitting the datasets into training and testing\n",
    "\n",
    "X_train, X_test, y_train, y_test = train_test_split(X, y, shuffle=True, train_size=0.8)\n",
    "\n",
    "# Fitting our model\n",
    "model.fit(X_train, y_train)\n",
    "    \n",
    "# Running Evaluation Metrics\n",
    "\n",
    "predictions = model.predict(X_test)\n",
    "r2 = r2_score(y_test, predictions)\n",
    "rmse = mean_squared_error(y_test, predictions, squared=False)\n",
    "\n",
    "print('The r2 is: ', r2)\n",
    "print('The rmse is: ', rmse)"
   ]
  },
  {
   "cell_type": "code",
   "execution_count": 46,
   "id": "0e7cc43c-b25c-4beb-9706-7a3db004b114",
   "metadata": {},
   "outputs": [
    {
     "name": "stdout",
     "output_type": "stream",
     "text": [
      "The r2 is:  0.8729427814707789\n",
      "The rmse is:  1368.6729914610478\n"
     ]
    }
   ],
   "source": [
    "clf_model = DecisionTreeRegressor(random_state=42, max_depth=7, min_samples_leaf=20)   \n",
    "clf_model.fit(X_train, y_train)\n",
    "\n",
    "y_predict = clf_model.predict(X_test)\n",
    "\n",
    "r2 = r2_score(y_test, y_predict)\n",
    "rmse = mean_squared_error(y_test, y_predict, squared=False)\n",
    "\n",
    "print('The r2 is: ', r2)\n",
    "print('The rmse is: ', rmse)"
   ]
  },
  {
   "cell_type": "code",
   "execution_count": 47,
   "id": "f795e7a4-d418-42b7-bbe9-761f2ac4f023",
   "metadata": {},
   "outputs": [
    {
     "name": "stdout",
     "output_type": "stream",
     "text": [
      "The r2 is:  0.8785532008136979\n",
      "The rmse is:  1338.1138380079187\n"
     ]
    }
   ],
   "source": [
    "rand_flor_reg = RandomForestRegressor(max_depth=7, random_state=0)\n",
    "rand_flor_reg.fit(X_train, y_train)\n",
    "\n",
    "y_pred = rand_flor_reg.predict(X_test)\n",
    "\n",
    "r2 = r2_score(y_test, y_pred)\n",
    "rmse = mean_squared_error(y_test, y_pred, squared=False)\n",
    "\n",
    "print('The r2 is: ', r2)\n",
    "print('The rmse is: ', rmse)"
   ]
  },
  {
   "cell_type": "code",
   "execution_count": 54,
   "id": "70e7ddb9-9857-4ed8-9788-0dee5d53ada3",
   "metadata": {},
   "outputs": [
    {
     "name": "stdout",
     "output_type": "stream",
     "text": [
      "The r2 2 is:  0.7363578338613406\n",
      "The rmse 2 is:  1979.1449183793925\n",
      "\n",
      "\n",
      "The r2 3 is:  0.8150956066474284\n",
      "The rmse 3 is:  1657.4627433598705\n",
      "\n",
      "\n",
      "The r2 4 is:  0.8409530482111044\n",
      "The rmse 4 is:  1537.208704500055\n",
      "\n",
      "\n",
      "The r2 5 is:  0.8597014497680816\n",
      "The rmse 5 is:  1443.7658053650557\n",
      "\n",
      "\n",
      "The r2 6 is:  0.8698638007668429\n",
      "The rmse 6 is:  1390.494320279926\n",
      "\n",
      "\n",
      "The r2 7 is:  0.8777920384597795\n",
      "The rmse 7 is:  1347.4724980454848\n",
      "\n",
      "\n",
      "The r2 8 is:  0.8828750689529963\n",
      "The rmse 8 is:  1319.1519812957758\n",
      "\n",
      "\n"
     ]
    }
   ],
   "source": [
    "for i in range(2, 9):\n",
    "    rand_flor_reg = RandomForestRegressor(max_depth=i, random_state=0)\n",
    "    rand_flor_reg.fit(X_train, y_train)\n",
    "\n",
    "    y_pred = rand_flor_reg.predict(X_test)\n",
    "\n",
    "    r2 = r2_score(y_test, y_pred)\n",
    "    rmse = mean_squared_error(y_test, y_pred, squared=False)\n",
    "\n",
    "    print(f'The r2 {i} is: ', r2)\n",
    "    print(f'The rmse {i} is: ', rmse)\n",
    "    print('\\n')\n"
   ]
  },
  {
   "cell_type": "code",
   "execution_count": 55,
   "id": "2c502d73-a537-433a-9473-b6ef7f2687c5",
   "metadata": {},
   "outputs": [
    {
     "name": "stdout",
     "output_type": "stream",
     "text": [
      "The r2 is:  0.8872236932777292\n",
      "The rmse is:  1294.4315625107924\n"
     ]
    }
   ],
   "source": [
    "rand_flor_reg = RandomForestRegressor(max_depth=9, random_state=0)\n",
    "rand_flor_reg.fit(X_train, y_train)\n",
    "\n",
    "y_pred = rand_flor_reg.predict(X_test)\n",
    "\n",
    "r2 = r2_score(y_test, y_pred)\n",
    "rmse = mean_squared_error(y_test, y_pred, squared=False)\n",
    "\n",
    "print('The r2 is: ', r2)\n",
    "print('The rmse is: ', rmse)"
   ]
  },
  {
   "cell_type": "code",
   "execution_count": 56,
   "id": "ed75dd7b-107b-46f5-944a-5a21dfcaca25",
   "metadata": {},
   "outputs": [
    {
     "name": "stdout",
     "output_type": "stream",
     "text": [
      "The r2 is:  0.892073375213059\n",
      "The rmse is:  1266.2937335907143\n"
     ]
    }
   ],
   "source": [
    "rand_flor_reg = RandomForestRegressor(max_depth=10, random_state=0)\n",
    "rand_flor_reg.fit(X_train, y_train)\n",
    "\n",
    "y_pred = rand_flor_reg.predict(X_test)\n",
    "\n",
    "r2 = r2_score(y_test, y_pred)\n",
    "rmse = mean_squared_error(y_test, y_pred, squared=False)\n",
    "\n",
    "print('The r2 is: ', r2)\n",
    "print('The rmse is: ', rmse)"
   ]
  },
  {
   "cell_type": "code",
   "execution_count": 57,
   "id": "5a6690d1-4ecd-4893-abb6-81a466a619b2",
   "metadata": {},
   "outputs": [
    {
     "name": "stdout",
     "output_type": "stream",
     "text": [
      "The r2 is:  0.8949273393186967\n",
      "The rmse is:  1248.14879367131\n"
     ]
    }
   ],
   "source": [
    "rand_flor_reg = RandomForestRegressor(max_depth=10, random_state=0)\n",
    "rand_flor_reg.fit(X_train, y_train)\n",
    "\n",
    "y_pred_train = rand_flor_reg.predict(X_train)\n",
    "\n",
    "r2 = r2_score(y_train, y_pred_train)\n",
    "rmse = mean_squared_error(y_train, y_pred_train, squared=False)\n",
    "\n",
    "print('The r2 is: ', r2)\n",
    "print('The rmse is: ', rmse)"
   ]
  },
  {
   "cell_type": "code",
   "execution_count": 58,
   "id": "01affef2-4e1f-45cd-965d-0d50891b026c",
   "metadata": {},
   "outputs": [
    {
     "name": "stdout",
     "output_type": "stream",
     "text": [
      "The r2 is:  0.8976433687623048 0.9015217338777451\n",
      "The rmse is:  1233.1847684632353 1208.3470696279103\n"
     ]
    }
   ],
   "source": [
    "rand_flor_reg = RandomForestRegressor(max_depth=11, random_state=0)\n",
    "rand_flor_reg.fit(X_train, y_train)\n",
    "\n",
    "y_pred = rand_flor_reg.predict(X_test)\n",
    "\n",
    "r2 = r2_score(y_test, y_pred)\n",
    "rmse = mean_squared_error(y_test, y_pred, squared=False)\n",
    "\n",
    "y_pred_train = rand_flor_reg.predict(X_train)\n",
    "\n",
    "r2_train = r2_score(y_train, y_pred_train)\n",
    "rmse_train = mean_squared_error(y_train, y_pred_train, squared=False)\n",
    "\n",
    "print('The r2 is: ', r2, r2_train)\n",
    "print('The rmse is: ', rmse, rmse_train)"
   ]
  },
  {
   "cell_type": "code",
   "execution_count": 62,
   "id": "affd941c-185a-4a14-a0fb-c0780a043a53",
   "metadata": {},
   "outputs": [
    {
     "name": "stdout",
     "output_type": "stream",
     "text": [
      "The r2 is:  0.8978434359114104 0.9016348177557935\n",
      "The rmse is:  1231.9789822036141 1207.6530899902225\n"
     ]
    }
   ],
   "source": [
    "rand_flor_reg = RandomForestRegressor(n_estimators=500, max_depth=11, random_state=0)\n",
    "rand_flor_reg.fit(X_train, y_train)\n",
    "\n",
    "y_pred = rand_flor_reg.predict(X_test)\n",
    "\n",
    "r2 = r2_score(y_test, y_pred)\n",
    "rmse = mean_squared_error(y_test, y_pred, squared=False)\n",
    "\n",
    "y_pred_train = rand_flor_reg.predict(X_train)\n",
    "\n",
    "r2_train = r2_score(y_train, y_pred_train)\n",
    "rmse_train = mean_squared_error(y_train, y_pred_train, squared=False)\n",
    "\n",
    "print('The r2 is: ', r2, r2_train)\n",
    "print('The rmse is: ', rmse, rmse_train)"
   ]
  },
  {
   "cell_type": "code",
   "execution_count": 63,
   "id": "e6054e58-f1cc-413e-a4cc-467df40ed212",
   "metadata": {},
   "outputs": [
    {
     "name": "stdout",
     "output_type": "stream",
     "text": [
      "The r2 is:  0.9133446731622218 0.9149367862699581\n",
      "The rmse is:  1134.6653488335294 1123.0326681382978\n",
      "\n",
      "\n",
      "The r2 is:  0.9242233545911137 0.9261446036689\n",
      "The rmse is:  1061.0548813631242 1046.4358576735349\n",
      "\n",
      "\n",
      "The r2 is:  0.9335993227310645 0.9356198223009117\n",
      "The rmse is:  993.2450618022564 977.0067900087223\n",
      "\n",
      "\n",
      "The r2 is:  0.9435919317262955 0.9461704988791974\n",
      "The rmse is:  915.4629523545032 893.3706365399486\n",
      "\n",
      "\n",
      "The r2 is:  0.9515275145904454 0.9549613165231018\n",
      "The rmse is:  848.6288740504983 817.1736233148213\n",
      "\n",
      "\n",
      "The r2 is:  0.9576471663797942 0.9621348208877313\n",
      "The rmse is:  793.2524023961205 749.2754517685356\n",
      "\n",
      "\n",
      "The r2 is:  0.96313192008707 0.9690725506283486\n",
      "The rmse is:  740.1085477790806 677.1635120777129\n",
      "\n",
      "\n"
     ]
    }
   ],
   "source": [
    "from sklearn.ensemble import GradientBoostingRegressor\n",
    "\n",
    "for i in range(5,12):\n",
    "    grad_boost_reg = GradientBoostingRegressor(max_depth=i, random_state=0)\n",
    "    grad_boost_reg.fit(X_train, y_train)\n",
    "\n",
    "    y_pred = grad_boost_reg.predict(X_test)\n",
    "\n",
    "    r2 = r2_score(y_test, y_pred)\n",
    "    rmse = mean_squared_error(y_test, y_pred, squared=False)\n",
    "    \n",
    "    y_pred_train = grad_boost_reg.predict(X_train)\n",
    "    \n",
    "    r2_train = r2_score(y_train, y_pred_train)\n",
    "    rmse_train = mean_squared_error(y_train, y_pred_train, squared=False)\n",
    "    \n",
    "    print('The r2 is: ', r2, r2_train)\n",
    "    print('The rmse is: ', rmse, rmse_train)\n",
    "    print('\\n')\n"
   ]
  },
  {
   "cell_type": "code",
   "execution_count": null,
   "id": "e103e427-7e05-412a-a67c-76173dcbb52c",
   "metadata": {},
   "outputs": [],
   "source": []
  }
 ],
 "metadata": {
  "kernelspec": {
   "display_name": "Python 3 (ipykernel)",
   "language": "python",
   "name": "python3"
  },
  "language_info": {
   "codemirror_mode": {
    "name": "ipython",
    "version": 3
   },
   "file_extension": ".py",
   "mimetype": "text/x-python",
   "name": "python",
   "nbconvert_exporter": "python",
   "pygments_lexer": "ipython3",
   "version": "3.8.2"
  }
 },
 "nbformat": 4,
 "nbformat_minor": 5
}
